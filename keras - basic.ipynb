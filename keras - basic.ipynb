{
 "cells": [
  {
   "cell_type": "code",
   "execution_count": 2,
   "metadata": {},
   "outputs": [
    {
     "name": "stderr",
     "output_type": "stream",
     "text": [
      "Using TensorFlow backend.\n"
     ]
    }
   ],
   "source": [
    "# Load layers\n",
    "from keras.layers import Input, Embedding, Flatten ,Subtract,Concatenate, Dense\n",
    "from keras.models import Model\n",
    "from keras.utils import plot_model\n",
    "import matplotlib.pyplot as plt\n",
    "import pandas as pd\n",
    "from sklearn.model_selection import train_test_split\n",
    "import numpy as np"
   ]
  },
  {
   "cell_type": "code",
   "execution_count": null,
   "metadata": {},
   "outputs": [],
   "source": [
    "\n",
    "\n",
    "# Input layer (from previous exercise)\n",
    "input_tensor = Input(shape=(1,))\n",
    "\n",
    "# Create a dense layer\n",
    "output_layer = Dense(1)\n",
    "\n",
    "# Connect the dense layer to the input_tensor\n",
    "output_tensor = output_layer(input_tensor)\n",
    "\n",
    "# Build the model\n",
    "\n",
    "model = Model(input_tensor, output_tensor)\n",
    "\n",
    "# Compile the model\n",
    "model.compile(optimizer='adam', loss='mean_absolute_error')\n"
   ]
  },
  {
   "cell_type": "code",
   "execution_count": null,
   "metadata": {},
   "outputs": [],
   "source": [
    "\n",
    "# Summarize the model\n",
    "model.summary()\n",
    "\n",
    "# Plot the model\n",
    "plot_model(model, to_file='model0.png')\n",
    "\n",
    "# Display the image\n",
    "data = plt.imread('model0.png')\n",
    "plt.imshow(data)\n",
    "plt.show()"
   ]
  },
  {
   "cell_type": "code",
   "execution_count": null,
   "metadata": {},
   "outputs": [],
   "source": [
    "\n",
    "games_tourney=pd.read_csv(\"games_tourney.csv\")\n",
    "games_tourney_train , games_tourney_test = train_test_split(games_tourney)"
   ]
  },
  {
   "cell_type": "code",
   "execution_count": null,
   "metadata": {},
   "outputs": [],
   "source": [
    "games_tourney_train.shape , games_tourney_test.shape"
   ]
  },
  {
   "cell_type": "code",
   "execution_count": null,
   "metadata": {},
   "outputs": [],
   "source": [
    "# Now fit the model\n",
    "model.fit(games_tourney_train['seed_diff'], games_tourney_train['score_diff'],\n",
    "          epochs=1,\n",
    "          batch_size=128,\n",
    "          validation_split=0.10,\n",
    "          verbose=True)"
   ]
  },
  {
   "cell_type": "code",
   "execution_count": null,
   "metadata": {},
   "outputs": [],
   "source": [
    "# Load the X variable from the test data\n",
    "X_test = games_tourney_test['seed_diff']\n",
    "\n",
    "# Load the y variable from the test data\n",
    "y_test = games_tourney_test['score_diff']\n",
    "\n",
    "# Evaluate the model on the test data\n",
    "model.evaluate(X_test, y_test)"
   ]
  },
  {
   "cell_type": "code",
   "execution_count": null,
   "metadata": {},
   "outputs": [],
   "source": []
  },
  {
   "cell_type": "code",
   "execution_count": null,
   "metadata": {},
   "outputs": [],
   "source": [
    "games_season=pd.read_csv(\"games_season.csv\")"
   ]
  },
  {
   "cell_type": "code",
   "execution_count": null,
   "metadata": {},
   "outputs": [],
   "source": [
    "\n",
    "\n",
    "# Count the unique number of teams\n",
    "n_teams = np.unique(games_season['team_1']).shape[0]\n",
    "\n",
    "# Create an embedding layer\n",
    "team_lookup = Embedding(input_dim=n_teams,\n",
    "                        output_dim=1,\n",
    "                        input_length=1,\n",
    "                        name='Team-Strength')"
   ]
  },
  {
   "cell_type": "code",
   "execution_count": null,
   "metadata": {},
   "outputs": [],
   "source": [
    "# Create an input layer for the team ID\n",
    "teamid_in = Input(shape=(1,))\n",
    "\n",
    "# Lookup the input in the team strength embedding layer\n",
    "strength_lookup = team_lookup(teamid_in)\n",
    "\n",
    "# Flatten the output\n",
    "strength_lookup_flat = Flatten()(strength_lookup)\n",
    "\n",
    "# Combine the operations into a single, re-usable model\n",
    "team_strength_model = Model(teamid_in, strength_lookup_flat, name='Team-Strength-Model')"
   ]
  },
  {
   "cell_type": "code",
   "execution_count": null,
   "metadata": {},
   "outputs": [],
   "source": [
    "\n",
    "# Input layer for team 1\n",
    "team_in_1 = Input(shape=(1,), name='Team-1-In')\n",
    "\n",
    "# Separate input layer for team 2\n",
    "team_in_2 = Input(shape=(1,), name='Team-2-In')\n",
    "\n",
    "# Lookup team 1 in the team strength model\n",
    "team_1_strength = team_strength_model(team_in_1)\n",
    "\n",
    "# Lookup team 2 in the team strength model\n",
    "team_2_strength = team_strength_model(team_in_2)\n",
    "\n",
    "\n",
    "# Create a subtract layer using the inputs from lookup\n",
    "score_diff = Subtract()([team_1_strength, team_2_strength])\n",
    "\n",
    "# Create the model\n",
    "model = Model([team_in_1, team_in_2], score_diff)\n",
    "\n",
    "# Compile the model\n",
    "model.compile(optimizer='adam', loss='mean_absolute_error')"
   ]
  },
  {
   "cell_type": "code",
   "execution_count": null,
   "metadata": {},
   "outputs": [],
   "source": [
    "# Plot the model\n",
    "plot_model(model, to_file='model1.png')\n",
    "\n",
    "# Display the image\n",
    "data = plt.imread('model1.png')\n",
    "plt.imshow(data)\n",
    "plt.show()"
   ]
  },
  {
   "cell_type": "code",
   "execution_count": null,
   "metadata": {},
   "outputs": [],
   "source": [
    "# Get the team_1 column from the regular season data\n",
    "input_1 = games_season['team_1']\n",
    "\n",
    "# Get the team_2 column from the regular season data\n",
    "input_2 = games_season['team_2']\n",
    "\n",
    "# Fit the model to input 1 and 2, using score diff as a target\n",
    "model.fit([input_1, input_2],\n",
    "          games_season['score_diff'],\n",
    "          epochs=1,\n",
    "          batch_size=2048,\n",
    "          validation_split=0.10,\n",
    "          verbose=True)"
   ]
  },
  {
   "cell_type": "code",
   "execution_count": null,
   "metadata": {},
   "outputs": [],
   "source": [
    "# Get team_1 from the tournament data\n",
    "input_1 = games_tourney['team_1']\n",
    "\n",
    "# Get team_2 from the tournament data\n",
    "input_2 = games_tourney['team_2']\n",
    "\n",
    "# Evaluate the model using these inputs\n",
    "model.evaluate([input_1, input_2], games_tourney['score_diff'])"
   ]
  },
  {
   "cell_type": "code",
   "execution_count": null,
   "metadata": {},
   "outputs": [],
   "source": []
  },
  {
   "cell_type": "code",
   "execution_count": null,
   "metadata": {},
   "outputs": [],
   "source": []
  },
  {
   "cell_type": "code",
   "execution_count": null,
   "metadata": {},
   "outputs": [],
   "source": []
  },
  {
   "cell_type": "code",
   "execution_count": null,
   "metadata": {},
   "outputs": [],
   "source": [
    "# Create an Input for each team\n",
    "team_in_1 = Input(shape=(1,), name='Team-1-In')\n",
    "team_in_2 = Input(shape=(1,), name='Team-2-In')\n",
    "\n",
    "# Create an input for home vs away\n",
    "home_in = Input(shape=(1,), name='Home-In')\n",
    "\n",
    "# Lookup the team inputs in the team strength model\n",
    "team_1_strength = team_strength_model(team_in_1)\n",
    "team_2_strength = team_strength_model(team_in_2)\n",
    "\n",
    "# Combine the team strengths with the home input using a Concatenate layer, then add a Dense layer\n",
    "out = Concatenate()([team_1_strength, team_2_strength, home_in])\n",
    "out = Dense(1)(out)"
   ]
  },
  {
   "cell_type": "code",
   "execution_count": null,
   "metadata": {},
   "outputs": [],
   "source": [
    "# Import the model class\n",
    "from keras.models import Model\n",
    "\n",
    "# Make a Model\n",
    "model = Model([team_in_1, team_in_2, home_in], out)\n",
    "\n",
    "# Compile the model\n",
    "model.compile(optimizer='adam', loss='mean_absolute_error')"
   ]
  },
  {
   "cell_type": "code",
   "execution_count": null,
   "metadata": {},
   "outputs": [],
   "source": [
    "# Plot the model\n",
    "plot_model(model, to_file='model2.png')\n",
    "\n",
    "# Display the image\n",
    "data = plt.imread('model2.png')\n",
    "plt.imshow(data)\n",
    "plt.show()"
   ]
  },
  {
   "cell_type": "code",
   "execution_count": null,
   "metadata": {},
   "outputs": [],
   "source": [
    "# Fit the model to the games_season dataset\n",
    "model.fit([games_season['team_1'], games_season['team_2'], games_season['home']],\n",
    "          games_season['score_diff'],\n",
    "          epochs=1,\n",
    "          verbose=True,\n",
    "          validation_split=.10,\n",
    "          batch_size=2048)\n",
    "\n",
    "# Evaluate the model on the games_tourney dataset\n",
    "model.evaluate([games_tourney['team_1'], games_tourney['team_2'], games_tourney['home']],\n",
    "               games_tourney['score_diff'])"
   ]
  },
  {
   "cell_type": "code",
   "execution_count": null,
   "metadata": {},
   "outputs": [],
   "source": []
  },
  {
   "cell_type": "code",
   "execution_count": null,
   "metadata": {},
   "outputs": [],
   "source": [
    "# Predict\n",
    "games_tourney['pred'] = model.predict([games_tourney['team_1'], \n",
    "                                             games_tourney['team_2'], \n",
    "                                             games_tourney['home']])"
   ]
  },
  {
   "cell_type": "code",
   "execution_count": null,
   "metadata": {},
   "outputs": [],
   "source": [
    "games_tourney_train , games_tourney_test = train_test_split(games_tourney)"
   ]
  },
  {
   "cell_type": "code",
   "execution_count": null,
   "metadata": {},
   "outputs": [],
   "source": [
    "# Create an input layer with 3 columns\n",
    "input_tensor = Input((3,))\n",
    "\n",
    "# Pass it to a Dense layer with 1 unit\n",
    "output_tensor = Dense(1)(input_tensor)\n",
    "\n",
    "# Create a model\n",
    "model = Model(input_tensor, output_tensor)\n",
    "\n",
    "# Compile the model\n",
    "model.compile(optimizer='adam', loss='mean_absolute_error')"
   ]
  },
  {
   "cell_type": "code",
   "execution_count": null,
   "metadata": {
    "scrolled": true
   },
   "outputs": [],
   "source": [
    "# Plot the model\n",
    "plot_model(model, to_file='model3.png')\n",
    "\n",
    "# Display the image\n",
    "data = plt.imread('model3.png')\n",
    "plt.imshow(data)\n",
    "plt.show()"
   ]
  },
  {
   "cell_type": "code",
   "execution_count": null,
   "metadata": {},
   "outputs": [],
   "source": [
    "model.summary()"
   ]
  },
  {
   "cell_type": "code",
   "execution_count": null,
   "metadata": {},
   "outputs": [],
   "source": [
    "# Fit the model\n",
    "model.fit(games_tourney_train[['home', 'seed_diff', 'pred']],\n",
    "          games_tourney_train['score_diff'],\n",
    "          epochs=1,\n",
    "          verbose=True)"
   ]
  },
  {
   "cell_type": "code",
   "execution_count": null,
   "metadata": {},
   "outputs": [],
   "source": [
    "# Evaluate the model on the games_tourney_test dataset\n",
    "model.evaluate(games_tourney_test[['home', 'seed_diff', 'pred']], \n",
    "               games_tourney_test['score_diff'])"
   ]
  },
  {
   "cell_type": "code",
   "execution_count": null,
   "metadata": {},
   "outputs": [],
   "source": []
  },
  {
   "cell_type": "code",
   "execution_count": null,
   "metadata": {},
   "outputs": [],
   "source": []
  },
  {
   "cell_type": "code",
   "execution_count": 30,
   "metadata": {},
   "outputs": [],
   "source": [
    "# Define the input\n",
    "input_tensor = Input(shape=(2,))\n",
    "\n",
    "# Define the output\n",
    "output_tensor = Dense(2)(input_tensor)\n",
    "\n",
    "# Create a model\n",
    "model1 = Model(input_tensor, output_tensor)\n",
    "\n",
    "# Compile the model\n",
    "model1.compile(loss='mean_absolute_error', optimizer='adam')"
   ]
  },
  {
   "cell_type": "code",
   "execution_count": 36,
   "metadata": {},
   "outputs": [
    {
     "name": "stdout",
     "output_type": "stream",
     "text": [
      "Epoch 1/100\n",
      "3471/3471 [==============================] - 0s 30us/step - loss: 9.5260\n",
      "Epoch 2/100\n",
      "3471/3471 [==============================] - 0s 3us/step - loss: 9.5131\n",
      "Epoch 3/100\n",
      "3471/3471 [==============================] - 0s 2us/step - loss: 9.4970\n",
      "Epoch 4/100\n",
      "3471/3471 [==============================] - 0s 2us/step - loss: 9.4820\n",
      "Epoch 5/100\n",
      "3471/3471 [==============================] - 0s 2us/step - loss: 9.4678\n",
      "Epoch 6/100\n",
      "3471/3471 [==============================] - 0s 2us/step - loss: 9.4529\n",
      "Epoch 7/100\n",
      "3471/3471 [==============================] - 0s 2us/step - loss: 9.4404\n",
      "Epoch 8/100\n",
      "3471/3471 [==============================] - 0s 2us/step - loss: 9.4284\n",
      "Epoch 9/100\n",
      "3471/3471 [==============================] - 0s 2us/step - loss: 9.4193\n",
      "Epoch 10/100\n",
      "3471/3471 [==============================] - 0s 2us/step - loss: 9.4110\n",
      "Epoch 11/100\n",
      "3471/3471 [==============================] - 0s 5us/step - loss: 9.4063\n",
      "Epoch 12/100\n",
      "3471/3471 [==============================] - 0s 3us/step - loss: 9.3980\n",
      "Epoch 13/100\n",
      "3471/3471 [==============================] - 0s 2us/step - loss: 9.3928\n",
      "Epoch 14/100\n",
      "3471/3471 [==============================] - 0s 2us/step - loss: 9.3885\n",
      "Epoch 15/100\n",
      "3471/3471 [==============================] - 0s 2us/step - loss: 9.3883\n",
      "Epoch 16/100\n",
      "3471/3471 [==============================] - 0s 3us/step - loss: 9.3906\n",
      "Epoch 17/100\n",
      "3471/3471 [==============================] - 0s 1us/step - loss: 9.3844\n",
      "Epoch 18/100\n",
      "3471/3471 [==============================] - 0s 2us/step - loss: 9.3912\n",
      "Epoch 19/100\n",
      "3471/3471 [==============================] - 0s 2us/step - loss: 9.3804\n",
      "Epoch 20/100\n",
      "3471/3471 [==============================] - 0s 1us/step - loss: 9.3851\n",
      "Epoch 21/100\n",
      "3471/3471 [==============================] - 0s 2us/step - loss: 9.3841\n",
      "Epoch 22/100\n",
      "3471/3471 [==============================] - 0s 3us/step - loss: 9.3815\n",
      "Epoch 23/100\n",
      "3471/3471 [==============================] - 0s 1us/step - loss: 9.3899\n",
      "Epoch 24/100\n",
      "3471/3471 [==============================] - 0s 1us/step - loss: 9.3818\n",
      "Epoch 25/100\n",
      "3471/3471 [==============================] - 0s 1us/step - loss: 9.3883\n",
      "Epoch 26/100\n",
      "3471/3471 [==============================] - 0s 1us/step - loss: 9.3850\n",
      "Epoch 27/100\n",
      "3471/3471 [==============================] - 0s 2us/step - loss: 9.3830\n",
      "Epoch 28/100\n",
      "3471/3471 [==============================] - 0s 2us/step - loss: 9.3854\n",
      "Epoch 29/100\n",
      "3471/3471 [==============================] - 0s 1us/step - loss: 9.3841\n",
      "Epoch 30/100\n",
      "3471/3471 [==============================] - 0s 1us/step - loss: 9.3830\n",
      "Epoch 31/100\n",
      "3471/3471 [==============================] - 0s 1us/step - loss: 9.3842\n",
      "Epoch 32/100\n",
      "3471/3471 [==============================] - 0s 2us/step - loss: 9.3829\n",
      "Epoch 33/100\n",
      "3471/3471 [==============================] - 0s 1us/step - loss: 9.3825\n",
      "Epoch 34/100\n",
      "3471/3471 [==============================] - 0s 3us/step - loss: 9.3834\n",
      "Epoch 35/100\n",
      "3471/3471 [==============================] - 0s 1us/step - loss: 9.3816\n",
      "Epoch 36/100\n",
      "3471/3471 [==============================] - 0s 1us/step - loss: 9.3823\n",
      "Epoch 37/100\n",
      "3471/3471 [==============================] - 0s 0us/step - loss: 9.3819\n",
      "Epoch 38/100\n",
      "3471/3471 [==============================] - 0s 1us/step - loss: 9.3806\n",
      "Epoch 39/100\n",
      "3471/3471 [==============================] - 0s 3us/step - loss: 9.3820\n",
      "Epoch 40/100\n",
      "3471/3471 [==============================] - 0s 2us/step - loss: 9.3817\n",
      "Epoch 41/100\n",
      "3471/3471 [==============================] - 0s 1us/step - loss: 9.3798\n",
      "Epoch 42/100\n",
      "3471/3471 [==============================] - 0s 2us/step - loss: 9.3799\n",
      "Epoch 43/100\n",
      "3471/3471 [==============================] - 0s 1us/step - loss: 9.3803\n",
      "Epoch 44/100\n",
      "3471/3471 [==============================] - 0s 1us/step - loss: 9.3794\n",
      "Epoch 45/100\n",
      "3471/3471 [==============================] - 0s 1us/step - loss: 9.3785\n",
      "Epoch 46/100\n",
      "3471/3471 [==============================] - 0s 2us/step - loss: 9.3807\n",
      "Epoch 47/100\n",
      "3471/3471 [==============================] - 0s 1us/step - loss: 9.3810\n",
      "Epoch 48/100\n",
      "3471/3471 [==============================] - 0s 1us/step - loss: 9.3779\n",
      "Epoch 49/100\n",
      "3471/3471 [==============================] - 0s 1us/step - loss: 9.3819\n",
      "Epoch 50/100\n",
      "3471/3471 [==============================] - 0s 1us/step - loss: 9.3814\n",
      "Epoch 51/100\n",
      "3471/3471 [==============================] - 0s 1us/step - loss: 9.3780\n",
      "Epoch 52/100\n",
      "3471/3471 [==============================] - 0s 1us/step - loss: 9.3842\n",
      "Epoch 53/100\n",
      "3471/3471 [==============================] - 0s 1us/step - loss: 9.3822\n",
      "Epoch 54/100\n",
      "3471/3471 [==============================] - 0s 3us/step - loss: 9.3781\n",
      "Epoch 55/100\n",
      "3471/3471 [==============================] - 0s 2us/step - loss: 9.3846\n",
      "Epoch 56/100\n",
      "3471/3471 [==============================] - 0s 1us/step - loss: 9.3823\n",
      "Epoch 57/100\n",
      "3471/3471 [==============================] - 0s 1us/step - loss: 9.3788\n",
      "Epoch 58/100\n",
      "3471/3471 [==============================] - 0s 1us/step - loss: 9.3855\n",
      "Epoch 59/100\n",
      "3471/3471 [==============================] - 0s 1us/step - loss: 9.3832\n",
      "Epoch 60/100\n",
      "3471/3471 [==============================] - 0s 1us/step - loss: 9.3783\n",
      "Epoch 61/100\n",
      "3471/3471 [==============================] - 0s 1us/step - loss: 9.3848\n",
      "Epoch 62/100\n",
      "3471/3471 [==============================] - 0s 2us/step - loss: 9.3832\n",
      "Epoch 63/100\n",
      "3471/3471 [==============================] - 0s 2us/step - loss: 9.3796\n",
      "Epoch 64/100\n",
      "3471/3471 [==============================] - 0s 2us/step - loss: 9.3874\n",
      "Epoch 65/100\n",
      "3471/3471 [==============================] - 0s 1us/step - loss: 9.3845\n",
      "Epoch 66/100\n",
      "3471/3471 [==============================] - 0s 1us/step - loss: 9.3842\n",
      "Epoch 67/100\n",
      "3471/3471 [==============================] - 0s 1us/step - loss: 9.3921\n",
      "Epoch 68/100\n",
      "3471/3471 [==============================] - 0s 1us/step - loss: 9.3860\n",
      "Epoch 69/100\n",
      "3471/3471 [==============================] - 0s 1us/step - loss: 9.3872\n",
      "Epoch 70/100\n",
      "3471/3471 [==============================] - 0s 3us/step - loss: 9.3925\n",
      "Epoch 71/100\n",
      "3471/3471 [==============================] - 0s 2us/step - loss: 9.3872\n",
      "Epoch 72/100\n",
      "3471/3471 [==============================] - 0s 2us/step - loss: 9.3888\n",
      "Epoch 73/100\n",
      "3471/3471 [==============================] - 0s 3us/step - loss: 9.3942\n",
      "Epoch 74/100\n",
      "3471/3471 [==============================] - 0s 2us/step - loss: 9.3890\n",
      "Epoch 75/100\n",
      "3471/3471 [==============================] - 0s 2us/step - loss: 9.3865\n",
      "Epoch 76/100\n",
      "3471/3471 [==============================] - 0s 1us/step - loss: 9.3933\n",
      "Epoch 77/100\n",
      "3471/3471 [==============================] - 0s 1us/step - loss: 9.3881\n",
      "Epoch 78/100\n",
      "3471/3471 [==============================] - 0s 2us/step - loss: 9.3847\n",
      "Epoch 79/100\n",
      "3471/3471 [==============================] - 0s 2us/step - loss: 9.3927\n",
      "Epoch 80/100\n",
      "3471/3471 [==============================] - 0s 1us/step - loss: 9.3842\n",
      "Epoch 81/100\n",
      "3471/3471 [==============================] - 0s 2us/step - loss: 9.3825\n",
      "Epoch 82/100\n",
      "3471/3471 [==============================] - 0s 2us/step - loss: 9.3882\n",
      "Epoch 83/100\n",
      "3471/3471 [==============================] - 0s 2us/step - loss: 9.3829\n",
      "Epoch 84/100\n",
      "3471/3471 [==============================] - 0s 2us/step - loss: 9.3820\n",
      "Epoch 85/100\n",
      "3471/3471 [==============================] - 0s 2us/step - loss: 9.3874\n",
      "Epoch 86/100\n",
      "3471/3471 [==============================] - 0s 2us/step - loss: 9.3829\n",
      "Epoch 87/100\n",
      "3471/3471 [==============================] - 0s 2us/step - loss: 9.3840\n",
      "Epoch 88/100\n",
      "3471/3471 [==============================] - 0s 3us/step - loss: 9.3915\n",
      "Epoch 89/100\n",
      "3471/3471 [==============================] - 0s 2us/step - loss: 9.3852\n",
      "Epoch 90/100\n",
      "3471/3471 [==============================] - 0s 1us/step - loss: 9.3873\n",
      "Epoch 91/100\n",
      "3471/3471 [==============================] - 0s 1us/step - loss: 9.3965\n",
      "Epoch 92/100\n",
      "3471/3471 [==============================] - 0s 1us/step - loss: 9.3870\n",
      "Epoch 93/100\n",
      "3471/3471 [==============================] - 0s 1us/step - loss: 9.3867\n",
      "Epoch 94/100\n",
      "3471/3471 [==============================] - 0s 1us/step - loss: 9.3994\n",
      "Epoch 95/100\n",
      "3471/3471 [==============================] - 0s 1us/step - loss: 9.3885\n",
      "Epoch 96/100\n",
      "3471/3471 [==============================] - 0s 2us/step - loss: 9.3882\n",
      "Epoch 97/100\n",
      "3471/3471 [==============================] - 0s 2us/step - loss: 9.3974\n"
     ]
    },
    {
     "name": "stdout",
     "output_type": "stream",
     "text": [
      "Epoch 98/100\n",
      "3471/3471 [==============================] - 0s 1us/step - loss: 9.3898\n",
      "Epoch 99/100\n",
      "3471/3471 [==============================] - 0s 0us/step - loss: 9.3888\n",
      "Epoch 100/100\n",
      "3471/3471 [==============================] - 0s 1us/step - loss: 9.3950\n"
     ]
    },
    {
     "data": {
      "text/plain": [
       "<keras.callbacks.History at 0x178d9077470>"
      ]
     },
     "execution_count": 36,
     "metadata": {},
     "output_type": "execute_result"
    }
   ],
   "source": [
    "model.fit(df_train[['seed_diff', 'pred']], df_train[['score_1', 'score_2']], verbose=True,epochs=100,batch_size=16384)"
   ]
  },
  {
   "cell_type": "code",
   "execution_count": null,
   "metadata": {},
   "outputs": [],
   "source": [
    "games_tourney.shape"
   ]
  },
  {
   "cell_type": "code",
   "execution_count": 37,
   "metadata": {},
   "outputs": [
    {
     "name": "stdout",
     "output_type": "stream",
     "text": [
      "Epoch 1/100\n",
      "3471/3471 [==============================] - 0s 84us/step - loss: 71.0844\n",
      "Epoch 2/100\n",
      "3471/3471 [==============================] - 0s 3us/step - loss: 71.0832\n",
      "Epoch 3/100\n",
      "3471/3471 [==============================] - 0s 1us/step - loss: 71.0820\n",
      "Epoch 4/100\n",
      "3471/3471 [==============================] - 0s 3us/step - loss: 71.0808\n",
      "Epoch 5/100\n",
      "3471/3471 [==============================] - 0s 2us/step - loss: 71.0796\n",
      "Epoch 6/100\n",
      "3471/3471 [==============================] - 0s 3us/step - loss: 71.0785\n",
      "Epoch 7/100\n",
      "3471/3471 [==============================] - 0s 2us/step - loss: 71.0773\n",
      "Epoch 8/100\n",
      "3471/3471 [==============================] - 0s 2us/step - loss: 71.0761\n",
      "Epoch 9/100\n",
      "3471/3471 [==============================] - 0s 4us/step - loss: 71.0749\n",
      "Epoch 10/100\n",
      "3471/3471 [==============================] - 0s 0us/step - loss: 71.0737\n",
      "Epoch 11/100\n",
      "3471/3471 [==============================] - 0s 2us/step - loss: 71.0725\n",
      "Epoch 12/100\n",
      "3471/3471 [==============================] - 0s 2us/step - loss: 71.0714\n",
      "Epoch 13/100\n",
      "3471/3471 [==============================] - 0s 2us/step - loss: 71.0702\n",
      "Epoch 14/100\n",
      "3471/3471 [==============================] - 0s 2us/step - loss: 71.0690\n",
      "Epoch 15/100\n",
      "3471/3471 [==============================] - 0s 1us/step - loss: 71.0678\n",
      "Epoch 16/100\n",
      "3471/3471 [==============================] - 0s 2us/step - loss: 71.0667\n",
      "Epoch 17/100\n",
      "3471/3471 [==============================] - 0s 2us/step - loss: 71.0655\n",
      "Epoch 18/100\n",
      "3471/3471 [==============================] - 0s 1us/step - loss: 71.0643\n",
      "Epoch 19/100\n",
      "3471/3471 [==============================] - 0s 1us/step - loss: 71.0631\n",
      "Epoch 20/100\n",
      "3471/3471 [==============================] - 0s 2us/step - loss: 71.0619\n",
      "Epoch 21/100\n",
      "3471/3471 [==============================] - 0s 2us/step - loss: 71.0607\n",
      "Epoch 22/100\n",
      "3471/3471 [==============================] - 0s 2us/step - loss: 71.0596\n",
      "Epoch 23/100\n",
      "3471/3471 [==============================] - 0s 2us/step - loss: 71.0584\n",
      "Epoch 24/100\n",
      "3471/3471 [==============================] - 0s 3us/step - loss: 71.0572\n",
      "Epoch 25/100\n",
      "3471/3471 [==============================] - 0s 2us/step - loss: 71.0560\n",
      "Epoch 26/100\n",
      "3471/3471 [==============================] - 0s 1us/step - loss: 71.0548\n",
      "Epoch 27/100\n",
      "3471/3471 [==============================] - 0s 2us/step - loss: 71.0536\n",
      "Epoch 28/100\n",
      "3471/3471 [==============================] - 0s 1us/step - loss: 71.0525\n",
      "Epoch 29/100\n",
      "3471/3471 [==============================] - 0s 3us/step - loss: 71.0513\n",
      "Epoch 30/100\n",
      "3471/3471 [==============================] - 0s 1us/step - loss: 71.0501\n",
      "Epoch 31/100\n",
      "3471/3471 [==============================] - 0s 2us/step - loss: 71.0489\n",
      "Epoch 32/100\n",
      "3471/3471 [==============================] - 0s 2us/step - loss: 71.0477\n",
      "Epoch 33/100\n",
      "3471/3471 [==============================] - 0s 1us/step - loss: 71.0466\n",
      "Epoch 34/100\n",
      "3471/3471 [==============================] - 0s 1us/step - loss: 71.0454\n",
      "Epoch 35/100\n",
      "3471/3471 [==============================] - 0s 1us/step - loss: 71.0442\n",
      "Epoch 36/100\n",
      "3471/3471 [==============================] - 0s 2us/step - loss: 71.0430\n",
      "Epoch 37/100\n",
      "3471/3471 [==============================] - 0s 2us/step - loss: 71.0418\n",
      "Epoch 38/100\n",
      "3471/3471 [==============================] - 0s 0us/step - loss: 71.0407\n",
      "Epoch 39/100\n",
      "3471/3471 [==============================] - 0s 1us/step - loss: 71.0395\n",
      "Epoch 40/100\n",
      "3471/3471 [==============================] - 0s 1us/step - loss: 71.0383\n",
      "Epoch 41/100\n",
      "3471/3471 [==============================] - 0s 1us/step - loss: 71.0371\n",
      "Epoch 42/100\n",
      "3471/3471 [==============================] - 0s 1us/step - loss: 71.0359\n",
      "Epoch 43/100\n",
      "3471/3471 [==============================] - 0s 2us/step - loss: 71.0348\n",
      "Epoch 44/100\n",
      "3471/3471 [==============================] - 0s 2us/step - loss: 71.0336\n",
      "Epoch 45/100\n",
      "3471/3471 [==============================] - 0s 2us/step - loss: 71.0324\n",
      "Epoch 46/100\n",
      "3471/3471 [==============================] - 0s 2us/step - loss: 71.0312\n",
      "Epoch 47/100\n",
      "3471/3471 [==============================] - 0s 1us/step - loss: 71.0301\n",
      "Epoch 48/100\n",
      "3471/3471 [==============================] - 0s 1us/step - loss: 71.0288\n",
      "Epoch 49/100\n",
      "3471/3471 [==============================] - 0s 1us/step - loss: 71.0277\n",
      "Epoch 50/100\n",
      "3471/3471 [==============================] - 0s 1us/step - loss: 71.0265\n",
      "Epoch 51/100\n",
      "3471/3471 [==============================] - 0s 2us/step - loss: 71.0253\n",
      "Epoch 52/100\n",
      "3471/3471 [==============================] - 0s 1us/step - loss: 71.0241\n",
      "Epoch 53/100\n",
      "3471/3471 [==============================] - 0s 1us/step - loss: 71.0230\n",
      "Epoch 54/100\n",
      "3471/3471 [==============================] - 0s 2us/step - loss: 71.0218\n",
      "Epoch 55/100\n",
      "3471/3471 [==============================] - 0s 3us/step - loss: 71.0206\n",
      "Epoch 56/100\n",
      "3471/3471 [==============================] - 0s 3us/step - loss: 71.0194\n",
      "Epoch 57/100\n",
      "3471/3471 [==============================] - 0s 2us/step - loss: 71.0182\n",
      "Epoch 58/100\n",
      "3471/3471 [==============================] - 0s 3us/step - loss: 71.0170\n",
      "Epoch 59/100\n",
      "3471/3471 [==============================] - 0s 2us/step - loss: 71.0159\n",
      "Epoch 60/100\n",
      "3471/3471 [==============================] - 0s 2us/step - loss: 71.0147\n",
      "Epoch 61/100\n",
      "3471/3471 [==============================] - 0s 1us/step - loss: 71.0135\n",
      "Epoch 62/100\n",
      "3471/3471 [==============================] - 0s 3us/step - loss: 71.0123\n",
      "Epoch 63/100\n",
      "3471/3471 [==============================] - 0s 2us/step - loss: 71.0112\n",
      "Epoch 64/100\n",
      "3471/3471 [==============================] - 0s 2us/step - loss: 71.0100\n",
      "Epoch 65/100\n",
      "3471/3471 [==============================] - 0s 2us/step - loss: 71.0088\n",
      "Epoch 66/100\n",
      "3471/3471 [==============================] - 0s 2us/step - loss: 71.0076\n",
      "Epoch 67/100\n",
      "3471/3471 [==============================] - 0s 2us/step - loss: 71.0064\n",
      "Epoch 68/100\n",
      "3471/3471 [==============================] - 0s 2us/step - loss: 71.0053\n",
      "Epoch 69/100\n",
      "3471/3471 [==============================] - 0s 2us/step - loss: 71.0041\n",
      "Epoch 70/100\n",
      "3471/3471 [==============================] - 0s 1us/step - loss: 71.0029\n",
      "Epoch 71/100\n",
      "3471/3471 [==============================] - 0s 0us/step - loss: 71.0017\n",
      "Epoch 72/100\n",
      "3471/3471 [==============================] - 0s 2us/step - loss: 71.0005\n",
      "Epoch 73/100\n",
      "3471/3471 [==============================] - 0s 1us/step - loss: 70.9993\n",
      "Epoch 74/100\n",
      "3471/3471 [==============================] - 0s 1us/step - loss: 70.9982\n",
      "Epoch 75/100\n",
      "3471/3471 [==============================] - 0s 1us/step - loss: 70.9970\n",
      "Epoch 76/100\n",
      "3471/3471 [==============================] - 0s 1us/step - loss: 70.9958\n",
      "Epoch 77/100\n",
      "3471/3471 [==============================] - 0s 1us/step - loss: 70.9946\n",
      "Epoch 78/100\n",
      "3471/3471 [==============================] - 0s 1us/step - loss: 70.9934\n",
      "Epoch 79/100\n",
      "3471/3471 [==============================] - 0s 1us/step - loss: 70.9922\n",
      "Epoch 80/100\n",
      "3471/3471 [==============================] - 0s 1us/step - loss: 70.9911\n",
      "Epoch 81/100\n",
      "3471/3471 [==============================] - 0s 3us/step - loss: 70.9899\n",
      "Epoch 82/100\n",
      "3471/3471 [==============================] - 0s 4us/step - loss: 70.9887\n",
      "Epoch 83/100\n",
      "3471/3471 [==============================] - 0s 2us/step - loss: 70.9875\n",
      "Epoch 84/100\n",
      "3471/3471 [==============================] - 0s 3us/step - loss: 70.9864\n",
      "Epoch 85/100\n",
      "3471/3471 [==============================] - 0s 2us/step - loss: 70.9852\n",
      "Epoch 86/100\n",
      "3471/3471 [==============================] - 0s 2us/step - loss: 70.9840\n",
      "Epoch 87/100\n",
      "3471/3471 [==============================] - 0s 2us/step - loss: 70.9828\n",
      "Epoch 88/100\n",
      "3471/3471 [==============================] - 0s 2us/step - loss: 70.9816\n",
      "Epoch 89/100\n",
      "3471/3471 [==============================] - 0s 1us/step - loss: 70.9804\n",
      "Epoch 90/100\n",
      "3471/3471 [==============================] - 0s 1us/step - loss: 70.9793\n",
      "Epoch 91/100\n",
      "3471/3471 [==============================] - 0s 1us/step - loss: 70.9781\n",
      "Epoch 92/100\n",
      "3471/3471 [==============================] - 0s 2us/step - loss: 70.9769\n",
      "Epoch 93/100\n",
      "3471/3471 [==============================] - 0s 2us/step - loss: 70.9757\n",
      "Epoch 94/100\n",
      "3471/3471 [==============================] - 0s 2us/step - loss: 70.9745\n",
      "Epoch 95/100\n",
      "3471/3471 [==============================] - 0s 1us/step - loss: 70.9734\n",
      "Epoch 96/100\n",
      "3471/3471 [==============================] - 0s 1us/step - loss: 70.9722\n"
     ]
    },
    {
     "name": "stdout",
     "output_type": "stream",
     "text": [
      "Epoch 97/100\n",
      "3471/3471 [==============================] - 0s 1us/step - loss: 70.9710\n",
      "Epoch 98/100\n",
      "3471/3471 [==============================] - 0s 2us/step - loss: 70.9698\n",
      "Epoch 99/100\n",
      "3471/3471 [==============================] - 0s 1us/step - loss: 70.9686\n",
      "Epoch 100/100\n",
      "3471/3471 [==============================] - 0s 1us/step - loss: 70.9675\n"
     ]
    },
    {
     "data": {
      "text/plain": [
       "<keras.callbacks.History at 0x178d5d9bba8>"
      ]
     },
     "execution_count": 37,
     "metadata": {},
     "output_type": "execute_result"
    }
   ],
   "source": [
    "model1.fit(df_train[['seed_diff', 'pred']], df_train[['score_1', 'score_2']], verbose=True,epochs=100,batch_size=16384)"
   ]
  },
  {
   "cell_type": "code",
   "execution_count": 11,
   "metadata": {},
   "outputs": [
    {
     "name": "stdout",
     "output_type": "stream",
     "text": [
      "[array([[-0.2116467 , -0.45720994],\n",
      "       [-0.28455526,  0.5873343 ]], dtype=float32), array([0.50011414, 0.50001967], dtype=float32)]\n",
      "season        2001.112648\n",
      "team_1        5573.694324\n",
      "team_2        5587.569000\n",
      "home             0.000000\n",
      "seed_diff        0.030827\n",
      "score_diff       0.139441\n",
      "score_1         71.210890\n",
      "score_2         71.071449\n",
      "won              0.503889\n",
      "pred             0.043224\n",
      "dtype: float64\n"
     ]
    }
   ],
   "source": [
    "# Print the model's weights\n",
    "print(model.get_weights())\n",
    "\n",
    "# Print the column means of the training data\n",
    "print(df_train.mean())"
   ]
  },
  {
   "cell_type": "code",
   "execution_count": 16,
   "metadata": {},
   "outputs": [],
   "source": [
    "df=pd.read_csv(\"games_season_enriched.csv\")"
   ]
  },
  {
   "cell_type": "code",
   "execution_count": 17,
   "metadata": {},
   "outputs": [
    {
     "data": {
      "text/plain": [
       "(4234, 10)"
      ]
     },
     "execution_count": 17,
     "metadata": {},
     "output_type": "execute_result"
    }
   ],
   "source": [
    "df.shape"
   ]
  },
  {
   "cell_type": "code",
   "execution_count": 18,
   "metadata": {},
   "outputs": [],
   "source": [
    "df_train,df_test=train_test_split(df,test_size=0.18)"
   ]
  },
  {
   "cell_type": "code",
   "execution_count": 19,
   "metadata": {},
   "outputs": [
    {
     "data": {
      "text/plain": [
       "(3471, 10)"
      ]
     },
     "execution_count": 19,
     "metadata": {},
     "output_type": "execute_result"
    }
   ],
   "source": [
    "df_train.shape"
   ]
  },
  {
   "cell_type": "code",
   "execution_count": 20,
   "metadata": {},
   "outputs": [
    {
     "data": {
      "text/html": [
       "<div>\n",
       "<style scoped>\n",
       "    .dataframe tbody tr th:only-of-type {\n",
       "        vertical-align: middle;\n",
       "    }\n",
       "\n",
       "    .dataframe tbody tr th {\n",
       "        vertical-align: top;\n",
       "    }\n",
       "\n",
       "    .dataframe thead th {\n",
       "        text-align: right;\n",
       "    }\n",
       "</style>\n",
       "<table border=\"1\" class=\"dataframe\">\n",
       "  <thead>\n",
       "    <tr style=\"text-align: right;\">\n",
       "      <th></th>\n",
       "      <th>season</th>\n",
       "      <th>team_1</th>\n",
       "      <th>team_2</th>\n",
       "      <th>home</th>\n",
       "      <th>seed_diff</th>\n",
       "      <th>score_diff</th>\n",
       "      <th>score_1</th>\n",
       "      <th>score_2</th>\n",
       "      <th>won</th>\n",
       "      <th>pred</th>\n",
       "    </tr>\n",
       "  </thead>\n",
       "  <tbody>\n",
       "    <tr>\n",
       "      <th>count</th>\n",
       "      <td>4234.000000</td>\n",
       "      <td>4234.000000</td>\n",
       "      <td>4234.000000</td>\n",
       "      <td>4234.0</td>\n",
       "      <td>4234.000000</td>\n",
       "      <td>4234.00000</td>\n",
       "      <td>4234.000000</td>\n",
       "      <td>4234.000000</td>\n",
       "      <td>4234.000000</td>\n",
       "      <td>4.234000e+03</td>\n",
       "    </tr>\n",
       "    <tr>\n",
       "      <th>mean</th>\n",
       "      <td>2001.193198</td>\n",
       "      <td>5589.146906</td>\n",
       "      <td>5589.146906</td>\n",
       "      <td>0.0</td>\n",
       "      <td>0.000000</td>\n",
       "      <td>0.00000</td>\n",
       "      <td>71.131318</td>\n",
       "      <td>71.131318</td>\n",
       "      <td>0.500000</td>\n",
       "      <td>-2.440078e-15</td>\n",
       "    </tr>\n",
       "    <tr>\n",
       "      <th>std</th>\n",
       "      <td>9.562753</td>\n",
       "      <td>3057.852421</td>\n",
       "      <td>3057.852421</td>\n",
       "      <td>0.0</td>\n",
       "      <td>7.546094</td>\n",
       "      <td>14.69144</td>\n",
       "      <td>12.942613</td>\n",
       "      <td>12.942613</td>\n",
       "      <td>0.500059</td>\n",
       "      <td>1.212638e+01</td>\n",
       "    </tr>\n",
       "    <tr>\n",
       "      <th>min</th>\n",
       "      <td>1985.000000</td>\n",
       "      <td>24.000000</td>\n",
       "      <td>24.000000</td>\n",
       "      <td>0.0</td>\n",
       "      <td>-15.000000</td>\n",
       "      <td>-58.00000</td>\n",
       "      <td>29.000000</td>\n",
       "      <td>29.000000</td>\n",
       "      <td>0.000000</td>\n",
       "      <td>-5.011823e+01</td>\n",
       "    </tr>\n",
       "    <tr>\n",
       "      <th>25%</th>\n",
       "      <td>1993.000000</td>\n",
       "      <td>3234.000000</td>\n",
       "      <td>3234.000000</td>\n",
       "      <td>0.0</td>\n",
       "      <td>-5.000000</td>\n",
       "      <td>-10.00000</td>\n",
       "      <td>62.000000</td>\n",
       "      <td>62.000000</td>\n",
       "      <td>0.000000</td>\n",
       "      <td>-7.116314e+00</td>\n",
       "    </tr>\n",
       "    <tr>\n",
       "      <th>50%</th>\n",
       "      <td>2001.000000</td>\n",
       "      <td>5284.000000</td>\n",
       "      <td>5284.000000</td>\n",
       "      <td>0.0</td>\n",
       "      <td>0.000000</td>\n",
       "      <td>0.00000</td>\n",
       "      <td>71.000000</td>\n",
       "      <td>71.000000</td>\n",
       "      <td>0.500000</td>\n",
       "      <td>-3.961275e-12</td>\n",
       "    </tr>\n",
       "    <tr>\n",
       "      <th>75%</th>\n",
       "      <td>2010.000000</td>\n",
       "      <td>8456.500000</td>\n",
       "      <td>8456.500000</td>\n",
       "      <td>0.0</td>\n",
       "      <td>5.000000</td>\n",
       "      <td>10.00000</td>\n",
       "      <td>79.000000</td>\n",
       "      <td>79.000000</td>\n",
       "      <td>1.000000</td>\n",
       "      <td>7.116314e+00</td>\n",
       "    </tr>\n",
       "    <tr>\n",
       "      <th>max</th>\n",
       "      <td>2017.000000</td>\n",
       "      <td>10851.000000</td>\n",
       "      <td>10851.000000</td>\n",
       "      <td>0.0</td>\n",
       "      <td>15.000000</td>\n",
       "      <td>58.00000</td>\n",
       "      <td>149.000000</td>\n",
       "      <td>149.000000</td>\n",
       "      <td>1.000000</td>\n",
       "      <td>5.011823e+01</td>\n",
       "    </tr>\n",
       "  </tbody>\n",
       "</table>\n",
       "</div>"
      ],
      "text/plain": [
       "            season        team_1        team_2    home    seed_diff  \\\n",
       "count  4234.000000   4234.000000   4234.000000  4234.0  4234.000000   \n",
       "mean   2001.193198   5589.146906   5589.146906     0.0     0.000000   \n",
       "std       9.562753   3057.852421   3057.852421     0.0     7.546094   \n",
       "min    1985.000000     24.000000     24.000000     0.0   -15.000000   \n",
       "25%    1993.000000   3234.000000   3234.000000     0.0    -5.000000   \n",
       "50%    2001.000000   5284.000000   5284.000000     0.0     0.000000   \n",
       "75%    2010.000000   8456.500000   8456.500000     0.0     5.000000   \n",
       "max    2017.000000  10851.000000  10851.000000     0.0    15.000000   \n",
       "\n",
       "       score_diff      score_1      score_2          won          pred  \n",
       "count  4234.00000  4234.000000  4234.000000  4234.000000  4.234000e+03  \n",
       "mean      0.00000    71.131318    71.131318     0.500000 -2.440078e-15  \n",
       "std      14.69144    12.942613    12.942613     0.500059  1.212638e+01  \n",
       "min     -58.00000    29.000000    29.000000     0.000000 -5.011823e+01  \n",
       "25%     -10.00000    62.000000    62.000000     0.000000 -7.116314e+00  \n",
       "50%       0.00000    71.000000    71.000000     0.500000 -3.961275e-12  \n",
       "75%      10.00000    79.000000    79.000000     1.000000  7.116314e+00  \n",
       "max      58.00000   149.000000   149.000000     1.000000  5.011823e+01  "
      ]
     },
     "execution_count": 20,
     "metadata": {},
     "output_type": "execute_result"
    }
   ],
   "source": [
    "df.describe()"
   ]
  },
  {
   "cell_type": "code",
   "execution_count": 12,
   "metadata": {},
   "outputs": [
    {
     "name": "stdout",
     "output_type": "stream",
     "text": [
      "763/763 [==============================] - 0s 43us/step\n"
     ]
    },
    {
     "data": {
      "text/plain": [
       "70.56930372005678"
      ]
     },
     "execution_count": 12,
     "metadata": {},
     "output_type": "execute_result"
    }
   ],
   "source": [
    "model.evaluate(df_test[['seed_diff', 'pred']],\n",
    "               df_test[['score_1', 'score_2']])"
   ]
  },
  {
   "cell_type": "code",
   "execution_count": 34,
   "metadata": {},
   "outputs": [],
   "source": [
    "from keras.models import load_model\n",
    "\n",
    "# Returns a compiled model identical to the previous one\n",
    "model = load_model('ch4_2_output_reg_model.h5')"
   ]
  },
  {
   "cell_type": "code",
   "execution_count": 27,
   "metadata": {},
   "outputs": [
    {
     "data": {
      "image/png": "[encoded data removed]",
      "text/plain": [
       "<Figure size 432x288 with 1 Axes>"
      ]
     },
     "metadata": {
      "needs_background": "light"
     },
     "output_type": "display_data"
    }
   ],
   "source": [
    "plot_model(model, to_file='model5.png')\n",
    "\n",
    "# Display the image\n",
    "data = plt.imread('model5.png')\n",
    "plt.imshow(data)\n",
    "plt.show()"
   ]
  },
  {
   "cell_type": "code",
   "execution_count": 31,
   "metadata": {},
   "outputs": [
    {
     "name": "stdout",
     "output_type": "stream",
     "text": [
      "_________________________________________________________________\n",
      "Layer (type)                 Output Shape              Param #   \n",
      "=================================================================\n",
      "input_5 (InputLayer)         (None, 2)                 0         \n",
      "_________________________________________________________________\n",
      "dense_5 (Dense)              (None, 2)                 6         \n",
      "=================================================================\n",
      "Total params: 6\n",
      "Trainable params: 6\n",
      "Non-trainable params: 0\n",
      "_________________________________________________________________\n"
     ]
    }
   ],
   "source": [
    "model1.summary()"
   ]
  },
  {
   "cell_type": "code",
   "execution_count": 35,
   "metadata": {},
   "outputs": [
    {
     "name": "stdout",
     "output_type": "stream",
     "text": [
      "_________________________________________________________________\n",
      "Layer (type)                 Output Shape              Param #   \n",
      "=================================================================\n",
      "input_1 (InputLayer)         (None, 2)                 0         \n",
      "_________________________________________________________________\n",
      "dense_1 (Dense)              (None, 2)                 6         \n",
      "=================================================================\n",
      "Total params: 6\n",
      "Trainable params: 6\n",
      "Non-trainable params: 0\n",
      "_________________________________________________________________\n"
     ]
    }
   ],
   "source": [
    "model.summary()"
   ]
  },
  {
   "cell_type": "code",
   "execution_count": null,
   "metadata": {},
   "outputs": [],
   "source": []
  },
  {
   "cell_type": "code",
   "execution_count": null,
   "metadata": {},
   "outputs": [],
   "source": []
  },
  {
   "cell_type": "code",
   "execution_count": 38,
   "metadata": {},
   "outputs": [],
   "source": [
    "# Create an input layer with 2 columns\n",
    "input_tensor = Input(shape=(2,))\n",
    "\n",
    "# Create the first output\n",
    "output_tensor_1 = Dense(1, activation='linear', use_bias=False)(input_tensor)\n",
    "\n",
    "# Create the second output (use the first output as input here)\n",
    "output_tensor_2 = Dense(1, activation='sigmoid', use_bias=False)(output_tensor_1)\n",
    "\n",
    "# Create a model with 2 outputs\n",
    "model = Model(input_tensor, [output_tensor_1, output_tensor_2])"
   ]
  },
  {
   "cell_type": "code",
   "execution_count": null,
   "metadata": {},
   "outputs": [],
   "source": [
    "# Import the Adam optimizer\n",
    "from keras.optimizers import Adam\n",
    "\n",
    "# Compile the model with 2 losses and the Adam optimzer with a higher learning rate\n",
    "model.compile(loss=['mean_absolute_error', 'binary_crossentropy'], optimizer=Adam(.01))\n",
    "\n",
    "# Fit the model to the tournament training data, with 2 inputs and 2 outputs\n",
    "model.fit(games_tourney_train[['seed_diff', 'pred']],\n",
    "          [games_tourney_train[['score_diff']], games_tourney_train[['won']]],\n",
    "          epochs=10,\n",
    "          verbose=True,\n",
    "          batch_size=16384)"
   ]
  }
 ],
 "metadata": {
  "kernelspec": {
   "display_name": "Python 3",
   "language": "python",
   "name": "python3"
  },
  "language_info": {
   "codemirror_mode": {
    "name": "ipython",
    "version": 3
   },
   "file_extension": ".py",
   "mimetype": "text/x-python",
   "name": "python",
   "nbconvert_exporter": "python",
   "pygments_lexer": "ipython3",
   "version": "3.6.8rc1"
  }
 },
 "nbformat": 4,
 "nbformat_minor": 2
}

{
  "nbformat": 4,
  "nbformat_minor": 0,
  "metadata": {
    "colab": {
      "name": "Deep learning - Keras - Titanic - Classification",
      "version": "0.3.2",
      "provenance": [],
      "collapsed_sections": [],
      "include_colab_link": true
    },
    "kernelspec": {
      "name": "python3",
      "display_name": "Python 3"
    }
  },
  "cells": [
    {
      "cell_type": "markdown",
      "metadata": {
        "id": "view-in-github",
        "colab_type": "text"
      },
      "source": [
        "<a href=\"https://colab.research.google.com/github/kingslyroche/ipynb/blob/master/Deep_learning_Keras_Titanic_Classification_basic.ipynb\" target=\"_parent\"><img src=\"https://colab.research.google.com/assets/colab-badge.svg\" alt=\"Open In Colab\"/></a>"
      ]
    },
    {
      "metadata": {
        "id": "wDWTusGkbkBW",
        "colab_type": "code",
        "colab": {}
      },
      "cell_type": "code",
      "source": [
        "import pandas as pd\n",
        "import numpy as np\n",
        "\n",
        "# Matplotlib forms basis for visualization in Python\n",
        "import matplotlib.pyplot as plt\n",
        "\n",
        "# Import necessary keras modules\n",
        "import keras\n",
        "from keras.layers import Dense\n",
        "from keras.models import Sequential\n",
        "from keras.utils import to_categorical\n",
        "from keras.callbacks import EarlyStopping\n",
        "from keras.optimizers import SGD\n",
        "\n"
      ],
      "execution_count": 0,
      "outputs": []
    },
    {
      "metadata": {
        "id": "TrZR6Mts60IS",
        "colab_type": "code",
        "outputId": "5e5174ea-7279-4b37-8390-ee597ab0d272",
        "colab": {
          "base_uri": "https://localhost:8080/",
          "height": 291
        }
      },
      "cell_type": "code",
      "source": [
        "df=pd.read_csv('https://assets.datacamp.com/production/repositories/654/datasets/92b75b9bc0c0a8a30999d76f4a1ee786ef072a9c/titanic_all_numeric.csv')\n",
        "df.describe()"
      ],
      "execution_count": 125,
      "outputs": [
        {
          "output_type": "execute_result",
          "data": {
            "text/html": [
              "<div>\n",
              "<style scoped>\n",
              "    .dataframe tbody tr th:only-of-type {\n",
              "        vertical-align: middle;\n",
              "    }\n",
              "\n",
              "    .dataframe tbody tr th {\n",
              "        vertical-align: top;\n",
              "    }\n",
              "\n",
              "    .dataframe thead th {\n",
              "        text-align: right;\n",
              "    }\n",
              "</style>\n",
              "<table border=\"1\" class=\"dataframe\">\n",
              "  <thead>\n",
              "    <tr style=\"text-align: right;\">\n",
              "      <th></th>\n",
              "      <th>survived</th>\n",
              "      <th>pclass</th>\n",
              "      <th>age</th>\n",
              "      <th>sibsp</th>\n",
              "      <th>parch</th>\n",
              "      <th>fare</th>\n",
              "      <th>male</th>\n",
              "      <th>embarked_from_cherbourg</th>\n",
              "      <th>embarked_from_queenstown</th>\n",
              "      <th>embarked_from_southampton</th>\n",
              "    </tr>\n",
              "  </thead>\n",
              "  <tbody>\n",
              "    <tr>\n",
              "      <th>count</th>\n",
              "      <td>891.000000</td>\n",
              "      <td>891.000000</td>\n",
              "      <td>891.000000</td>\n",
              "      <td>891.000000</td>\n",
              "      <td>891.000000</td>\n",
              "      <td>891.000000</td>\n",
              "      <td>891.000000</td>\n",
              "      <td>891.000000</td>\n",
              "      <td>891.000000</td>\n",
              "      <td>891.000000</td>\n",
              "    </tr>\n",
              "    <tr>\n",
              "      <th>mean</th>\n",
              "      <td>0.383838</td>\n",
              "      <td>2.308642</td>\n",
              "      <td>29.699118</td>\n",
              "      <td>0.523008</td>\n",
              "      <td>0.381594</td>\n",
              "      <td>32.204208</td>\n",
              "      <td>0.647587</td>\n",
              "      <td>0.188552</td>\n",
              "      <td>0.086420</td>\n",
              "      <td>0.722783</td>\n",
              "    </tr>\n",
              "    <tr>\n",
              "      <th>std</th>\n",
              "      <td>0.486592</td>\n",
              "      <td>0.836071</td>\n",
              "      <td>13.002015</td>\n",
              "      <td>1.102743</td>\n",
              "      <td>0.806057</td>\n",
              "      <td>49.693429</td>\n",
              "      <td>0.477990</td>\n",
              "      <td>0.391372</td>\n",
              "      <td>0.281141</td>\n",
              "      <td>0.447876</td>\n",
              "    </tr>\n",
              "    <tr>\n",
              "      <th>min</th>\n",
              "      <td>0.000000</td>\n",
              "      <td>1.000000</td>\n",
              "      <td>0.420000</td>\n",
              "      <td>0.000000</td>\n",
              "      <td>0.000000</td>\n",
              "      <td>0.000000</td>\n",
              "      <td>0.000000</td>\n",
              "      <td>0.000000</td>\n",
              "      <td>0.000000</td>\n",
              "      <td>0.000000</td>\n",
              "    </tr>\n",
              "    <tr>\n",
              "      <th>25%</th>\n",
              "      <td>0.000000</td>\n",
              "      <td>2.000000</td>\n",
              "      <td>22.000000</td>\n",
              "      <td>0.000000</td>\n",
              "      <td>0.000000</td>\n",
              "      <td>7.910400</td>\n",
              "      <td>0.000000</td>\n",
              "      <td>0.000000</td>\n",
              "      <td>0.000000</td>\n",
              "      <td>0.000000</td>\n",
              "    </tr>\n",
              "    <tr>\n",
              "      <th>50%</th>\n",
              "      <td>0.000000</td>\n",
              "      <td>3.000000</td>\n",
              "      <td>29.699118</td>\n",
              "      <td>0.000000</td>\n",
              "      <td>0.000000</td>\n",
              "      <td>14.454200</td>\n",
              "      <td>1.000000</td>\n",
              "      <td>0.000000</td>\n",
              "      <td>0.000000</td>\n",
              "      <td>1.000000</td>\n",
              "    </tr>\n",
              "    <tr>\n",
              "      <th>75%</th>\n",
              "      <td>1.000000</td>\n",
              "      <td>3.000000</td>\n",
              "      <td>35.000000</td>\n",
              "      <td>1.000000</td>\n",
              "      <td>0.000000</td>\n",
              "      <td>31.000000</td>\n",
              "      <td>1.000000</td>\n",
              "      <td>0.000000</td>\n",
              "      <td>0.000000</td>\n",
              "      <td>1.000000</td>\n",
              "    </tr>\n",
              "    <tr>\n",
              "      <th>max</th>\n",
              "      <td>1.000000</td>\n",
              "      <td>3.000000</td>\n",
              "      <td>80.000000</td>\n",
              "      <td>8.000000</td>\n",
              "      <td>6.000000</td>\n",
              "      <td>512.329200</td>\n",
              "      <td>1.000000</td>\n",
              "      <td>1.000000</td>\n",
              "      <td>1.000000</td>\n",
              "      <td>1.000000</td>\n",
              "    </tr>\n",
              "  </tbody>\n",
              "</table>\n",
              "</div>"
            ],
            "text/plain": [
              "         survived      pclass         age       sibsp       parch        fare  \\\n",
              "count  891.000000  891.000000  891.000000  891.000000  891.000000  891.000000   \n",
              "mean     0.383838    2.308642   29.699118    0.523008    0.381594   32.204208   \n",
              "std      0.486592    0.836071   13.002015    1.102743    0.806057   49.693429   \n",
              "min      0.000000    1.000000    0.420000    0.000000    0.000000    0.000000   \n",
              "25%      0.000000    2.000000   22.000000    0.000000    0.000000    7.910400   \n",
              "50%      0.000000    3.000000   29.699118    0.000000    0.000000   14.454200   \n",
              "75%      1.000000    3.000000   35.000000    1.000000    0.000000   31.000000   \n",
              "max      1.000000    3.000000   80.000000    8.000000    6.000000  512.329200   \n",
              "\n",
              "             male  embarked_from_cherbourg  embarked_from_queenstown  \\\n",
              "count  891.000000               891.000000                891.000000   \n",
              "mean     0.647587                 0.188552                  0.086420   \n",
              "std      0.477990                 0.391372                  0.281141   \n",
              "min      0.000000                 0.000000                  0.000000   \n",
              "25%      0.000000                 0.000000                  0.000000   \n",
              "50%      1.000000                 0.000000                  0.000000   \n",
              "75%      1.000000                 0.000000                  0.000000   \n",
              "max      1.000000                 1.000000                  1.000000   \n",
              "\n",
              "       embarked_from_southampton  \n",
              "count                 891.000000  \n",
              "mean                    0.722783  \n",
              "std                     0.447876  \n",
              "min                     0.000000  \n",
              "25%                     0.000000  \n",
              "50%                     1.000000  \n",
              "75%                     1.000000  \n",
              "max                     1.000000  "
            ]
          },
          "metadata": {
            "tags": []
          },
          "execution_count": 125
        }
      ]
    },
    {
      "metadata": {
        "id": "eBpO8VE5_G9p",
        "colab_type": "code",
        "colab": {}
      },
      "cell_type": "code",
      "source": [
        "\n",
        "# Creating features and labels\n",
        "\n",
        "predictors=df.drop(['survived','age_was_missing'],axis=1).as_matrix()\n",
        "\n",
        "target=to_categorical(df['survived'])"
      ],
      "execution_count": 0,
      "outputs": []
    },
    {
      "metadata": {
        "id": "9dosMlLoXqG5",
        "colab_type": "code",
        "colab": {}
      },
      "cell_type": "code",
      "source": [
        "\n",
        "# Save the number of columns in predictors: n_cols\n",
        "n_cols = predictors.shape[1]\n",
        "input_shape=(n_cols,)\n",
        "# Convert the target to categorical: target\n",
        "target = to_categorical(df.survived)\n"
      ],
      "execution_count": 0,
      "outputs": []
    },
    {
      "metadata": {
        "id": "T6ffhcmRs-92",
        "colab_type": "code",
        "colab": {}
      },
      "cell_type": "code",
      "source": [
        "#Initialize the callbacks\n",
        "es=EarlyStopping(monitor='val_loss',patience=2)\n"
      ],
      "execution_count": 0,
      "outputs": []
    },
    {
      "metadata": {
        "id": "IkO2Gm2SdAHr",
        "colab_type": "code",
        "colab": {}
      },
      "cell_type": "code",
      "source": [
        "def  get_new_model(input_shape=input_shape):\n",
        "\n",
        "  # Set up the model\n",
        "  model = Sequential()\n",
        "\n",
        "  # Add the first layer\n",
        "  model.add(Dense(150,activation='relu',input_shape=input_shape))\n",
        "  model.add(Dense(150,activation='relu'))\n",
        "\n",
        "\n",
        "  # Add the output layer\n",
        "  model.add(Dense(2,activation='softmax'))\n",
        "\n",
        "  return (model)\n"
      ],
      "execution_count": 0,
      "outputs": []
    },
    {
      "metadata": {
        "id": "-SLNB7H67s6r",
        "colab_type": "code",
        "colab": {
          "base_uri": "https://localhost:8080/",
          "height": 1226
        },
        "outputId": "98b89381-65e4-4464-e3b7-4ccb82447b3c"
      },
      "cell_type": "code",
      "source": [
        "   \n",
        "lr=[0.0001,0.1]\n",
        "history=[]\n",
        "\n",
        "for lr in lr:\n",
        "  print('\\nTesting model with learning rate: %f \\n'%lr )\n",
        "  \n",
        "  #get a unoptimized model\n",
        "  \n",
        "  model = get_new_model()\n",
        "  \n",
        "  #create the optimizer\n",
        "  my_sgd=SGD(lr=lr)\n",
        "  \n",
        "  # Compile the model\n",
        "  model.compile(optimizer=my_sgd,loss='categorical_crossentropy',metrics=['accuracy'])\n",
        "\n",
        "  # Fit the model\n",
        "  m=model.fit(predictors,target,epochs=15,validation_split=0.3)\n",
        "\n",
        " \n",
        "  history.append(m.history)\n"
      ],
      "execution_count": 140,
      "outputs": [
        {
          "output_type": "stream",
          "text": [
            "\n",
            "Testing model with learning rate: 0.000100 \n",
            "\n",
            "Train on 623 samples, validate on 268 samples\n",
            "Epoch 1/15\n",
            "623/623 [==============================] - 5s 7ms/step - loss: 0.7646 - acc: 0.4655 - val_loss: 0.7537 - val_acc: 0.5224\n",
            "Epoch 2/15\n",
            "623/623 [==============================] - 0s 102us/step - loss: 0.6882 - acc: 0.6067 - val_loss: 0.6946 - val_acc: 0.6119\n",
            "Epoch 3/15\n",
            "623/623 [==============================] - 0s 92us/step - loss: 0.6711 - acc: 0.6324 - val_loss: 0.6623 - val_acc: 0.6269\n",
            "Epoch 4/15\n",
            "623/623 [==============================] - 0s 93us/step - loss: 0.6601 - acc: 0.6501 - val_loss: 0.6459 - val_acc: 0.6567\n",
            "Epoch 5/15\n",
            "623/623 [==============================] - 0s 104us/step - loss: 0.6601 - acc: 0.6356 - val_loss: 0.6418 - val_acc: 0.6530\n",
            "Epoch 6/15\n",
            "623/623 [==============================] - 0s 104us/step - loss: 0.6540 - acc: 0.6388 - val_loss: 0.6402 - val_acc: 0.7052\n",
            "Epoch 7/15\n",
            "623/623 [==============================] - 0s 98us/step - loss: 0.6539 - acc: 0.6485 - val_loss: 0.6332 - val_acc: 0.6978\n",
            "Epoch 8/15\n",
            "623/623 [==============================] - 0s 103us/step - loss: 0.6511 - acc: 0.6404 - val_loss: 0.6269 - val_acc: 0.6828\n",
            "Epoch 9/15\n",
            "623/623 [==============================] - 0s 94us/step - loss: 0.6470 - acc: 0.6517 - val_loss: 0.6275 - val_acc: 0.6604\n",
            "Epoch 10/15\n",
            "623/623 [==============================] - 0s 101us/step - loss: 0.6499 - acc: 0.6469 - val_loss: 0.6249 - val_acc: 0.6604\n",
            "Epoch 11/15\n",
            "623/623 [==============================] - 0s 98us/step - loss: 0.6445 - acc: 0.6356 - val_loss: 0.6196 - val_acc: 0.6716\n",
            "Epoch 12/15\n",
            "623/623 [==============================] - 0s 100us/step - loss: 0.6424 - acc: 0.6404 - val_loss: 0.6250 - val_acc: 0.6381\n",
            "Epoch 13/15\n",
            "623/623 [==============================] - 0s 99us/step - loss: 0.6435 - acc: 0.6388 - val_loss: 0.6184 - val_acc: 0.7015\n",
            "Epoch 14/15\n",
            "623/623 [==============================] - 0s 98us/step - loss: 0.6424 - acc: 0.6372 - val_loss: 0.6285 - val_acc: 0.6455\n",
            "Epoch 15/15\n",
            "623/623 [==============================] - 0s 100us/step - loss: 0.6404 - acc: 0.6308 - val_loss: 0.6168 - val_acc: 0.7015\n",
            "\n",
            "Testing model with learning rate: 0.100000 \n",
            "\n",
            "Train on 623 samples, validate on 268 samples\n",
            "Epoch 1/15\n",
            "623/623 [==============================] - 4s 7ms/step - loss: 6.2005 - acc: 0.5955 - val_loss: 5.7736 - val_acc: 0.6418\n",
            "Epoch 2/15\n",
            "623/623 [==============================] - 0s 96us/step - loss: 6.3644 - acc: 0.6051 - val_loss: 5.7736 - val_acc: 0.6418\n",
            "Epoch 3/15\n",
            "623/623 [==============================] - 0s 95us/step - loss: 6.3644 - acc: 0.6051 - val_loss: 5.7736 - val_acc: 0.6418\n",
            "Epoch 4/15\n",
            "623/623 [==============================] - 0s 96us/step - loss: 6.3644 - acc: 0.6051 - val_loss: 5.7736 - val_acc: 0.6418\n",
            "Epoch 5/15\n",
            "623/623 [==============================] - 0s 95us/step - loss: 6.3644 - acc: 0.6051 - val_loss: 5.7736 - val_acc: 0.6418\n",
            "Epoch 6/15\n",
            "623/623 [==============================] - 0s 92us/step - loss: 6.3644 - acc: 0.6051 - val_loss: 5.7736 - val_acc: 0.6418\n",
            "Epoch 7/15\n",
            "623/623 [==============================] - 0s 91us/step - loss: 6.3644 - acc: 0.6051 - val_loss: 5.7736 - val_acc: 0.6418\n",
            "Epoch 8/15\n",
            "623/623 [==============================] - 0s 94us/step - loss: 6.3644 - acc: 0.6051 - val_loss: 5.7736 - val_acc: 0.6418\n",
            "Epoch 9/15\n",
            "623/623 [==============================] - 0s 94us/step - loss: 6.3644 - acc: 0.6051 - val_loss: 5.7736 - val_acc: 0.6418\n",
            "Epoch 10/15\n",
            "623/623 [==============================] - 0s 95us/step - loss: 6.3644 - acc: 0.6051 - val_loss: 5.7736 - val_acc: 0.6418\n",
            "Epoch 11/15\n",
            "623/623 [==============================] - 0s 96us/step - loss: 6.3644 - acc: 0.6051 - val_loss: 5.7736 - val_acc: 0.6418\n",
            "Epoch 12/15\n",
            "623/623 [==============================] - 0s 98us/step - loss: 6.3644 - acc: 0.6051 - val_loss: 5.7736 - val_acc: 0.6418\n",
            "Epoch 13/15\n",
            "623/623 [==============================] - 0s 93us/step - loss: 6.3644 - acc: 0.6051 - val_loss: 5.7736 - val_acc: 0.6418\n",
            "Epoch 14/15\n",
            "623/623 [==============================] - 0s 95us/step - loss: 6.3644 - acc: 0.6051 - val_loss: 5.7736 - val_acc: 0.6418\n",
            "Epoch 15/15\n",
            "623/623 [==============================] - 0s 98us/step - loss: 6.3644 - acc: 0.6051 - val_loss: 5.7736 - val_acc: 0.6418\n"
          ],
          "name": "stdout"
        }
      ]
    },
    {
      "metadata": {
        "id": "CHC0FIjfoTUp",
        "colab_type": "code",
        "colab": {
          "base_uri": "https://localhost:8080/",
          "height": 347
        },
        "outputId": "a8ab8871-2c4d-47cd-96ab-d5c50049e33b"
      },
      "cell_type": "code",
      "source": [
        "for x in history:\n",
        "  plt.plot(x['val_acc'])"
      ],
      "execution_count": 141,
      "outputs": [
        {
          "output_type": "display_data",
          "data": {
            "image/png": "[encoded data removed]",
            "text/plain": [
              "<Figure size 576x396 with 1 Axes>"
            ]
          },
          "metadata": {
            "tags": []
          }
        }
      ]
    },
    {
      "metadata": {
        "id": "Fi2fyCaA9bs3",
        "colab_type": "code",
        "colab": {}
      },
      "cell_type": "code",
      "source": [
        ""
      ],
      "execution_count": 0,
      "outputs": []
    }
  ]
}
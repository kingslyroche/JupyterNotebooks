{
  "nbformat": 4,
  "nbformat_minor": 0,
  "metadata": {
    "colab": {
      "name": "assignment1_USA_flights_EDA.ipynb",
      "version": "0.3.2",
      "provenance": [],
      "collapsed_sections": [],
      "include_colab_link": true
    },
    "kernelspec": {
      "name": "python3",
      "display_name": "Python 3"
    }
  },
  "cells": [
    {
      "cell_type": "markdown",
      "metadata": {
        "id": "view-in-github",
        "colab_type": "text"
      },
      "source": [
        "<a href=\"https://colab.research.google.com/github/kingslyroche/ipynb/blob/master/assignment1_USA_flights_EDA.ipynb\" target=\"_parent\"><img src=\"https://colab.research.google.com/assets/colab-badge.svg\" alt=\"Open In Colab\"/></a>"
      ]
    },
    {
      "metadata": {
        "id": "FlKhXSL1WgrE",
        "colab_type": "text"
      },
      "cell_type": "markdown",
      "source": [
        "<center>\n",
        "<img src=\"https://github.com/Yorko/mlcourse.ai/blob/master/img/ods_stickers.jpg?raw=1\" />\n",
        "    \n",
        "## [mlcourse.ai](mlcourse.ai) – Open Machine Learning Course \n",
        "\n",
        "Authors: [Yury Kashnitskiy](https://yorko.github.io) and [Maxim Keremet](https://www.linkedin.com/in/maximkeremet/). Translated and edited by  [Artem Trunov](https://www.linkedin.com/in/datamove/), and [Aditya Soni](https://www.linkedin.com/in/aditya-soni-0505a9124/). This material is subject to the terms and conditions of the [Creative Commons CC BY-NC-SA 4.0](https://creativecommons.org/licenses/by-nc-sa/4.0/) license. Free use is permitted for any non-commercial purpose."
      ]
    },
    {
      "metadata": {
        "id": "o_jnLn2YWgrH",
        "colab_type": "text"
      },
      "cell_type": "markdown",
      "source": [
        "# <center>Assignment #1. Spring 2019 <br> \n",
        "\n",
        "## <center>Exploratory Data Analysis (EDA) of US flights <br> (using Pandas, Matplotlib & Seaborn)\n",
        "\n",
        "<img src='https://github.com/Yorko/mlcourse.ai/blob/master/img/plane_sunset.png?raw=1' width=50%>\n",
        "\n",
        "Prior to working on the assignment, you'd better check out the corresponding course material:\n",
        " - [Exploratory data analysis with Pandas](https://nbviewer.jupyter.org/github/Yorko/mlcourse_open/blob/master/jupyter_english/topic01_pandas_data_analysis/topic1_pandas_data_analysis.ipynb?flush_cache=true), the same as an interactive web-based [Kaggle Kernel](https://www.kaggle.com/kashnitsky/topic-1-exploratory-data-analysis-with-pandas)\n",
        " - [Visualization: from Simple Distributions to Dimensionality Reduction](https://mlcourse.ai/notebooks/blob/master/jupyter_english/topic02_visual_data_analysis/topic2_visual_data_analysis.ipynb?flush_cache=true), the same as a [Kaggle Kernel](https://www.kaggle.com/kashnitsky/topic-2-visual-data-analysis-in-python)\n",
        " - [Overview of Seaborn, Matplotlib and Plotly libraries](https://mlcourse.ai/notebooks/blob/master/jupyter_english/topic02_visual_data_analysis/topic2_additional_seaborn_matplotlib_plotly.ipynb?flush_cache=true), the same as a [Kaggle Kernel](https://www.kaggle.com/kashnitsky/topic-2-part-2-seaborn-and-plotly) \n",
        " - first lectures in [this](https://www.youtube.com/watch?v=QKTuw4PNOsU&list=PLVlY_7IJCMJeRfZ68eVfEcu-UcN9BbwiX) YouTube playlist \n",
        " - you can also practice with demo assignments, which are simpler and already shared with solutions: [A1 demo](https://www.kaggle.com/kashnitsky/a1-demo-pandas-and-uci-adult-dataset), [solution](https://www.kaggle.com/kashnitsky/a1-demo-pandas-and-uci-adult-dataset-solution), [A2 demo](https://www.kaggle.com/kashnitsky/a2-demo-analyzing-cardiovascular-data), [solution](https://www.kaggle.com/kashnitsky/a2-demo-analyzing-cardiovascular-data-solution)\n",
        "\n",
        "### Your task is to:\n",
        " 1. write code and perform computations in the cells below\n",
        " 2. choose answers in the [webform](https://docs.google.com/forms/d/1Q_5rY7Paed4Xc_THtrfE3OSaB3sJerYuJ7NCHtqRbKs). Solutions will be shared only with those who've filled in this form \n",
        " 3. submit answers with some email and **remember it**! This will be your ID during the course. Specify your real full name in the form as well (no nicks allowed in the final top-100 [rating](https://mlcourse.ai/rating)). If in doubt, you can re-submit the form till the deadline for A1, no problem, but stick to only one email.\n",
        " \n",
        "### <center> Deadline for A1: 2019 February 24, 20:59 GMT (London time)\n",
        "    \n",
        "You'll get up to 12 credits for this assignment - the web-form score will be halved and rounded.\n",
        "\n",
        "### How to get help\n",
        "In [ODS Slack](https://opendatascience.slack.com) (if you still don't have access, fill in the [form](https://docs.google.com/forms/d/1BMqcUc-hIQXa0HB_Q2Oa8vWBtGHXk8a6xo5gPnMKYKA/edit) mentioned on the mlcourse.ai main page), we have a channel **#mlcourse_ai_news** with announcements from the course team.\n",
        "You can discuss the course content freely in the **#mlcourse_ai** channel (we still have a huge Russian-speaking group, they have a separate channel **#mlcourse_ai_rus**).\n",
        "\n",
        "Here's how you reply in a thread (press this dialog icon to drill down into a thread):\n",
        "\n",
        "<img src=\"https://github.com/Yorko/mlcourse.ai/blob/master/img/start_a_thread.png?raw=1\" />\n",
        "\n",
        "Please stick to special threads for your questions:\n",
        " - [#a1_q1-5](https://opendatascience.slack.com/archives/C91N8TL83/p1549882488049500) for questions 1-5 below\n",
        " - [#a1_q6-10](https://opendatascience.slack.com/archives/C91N8TL83/p1549882494049700) for questions 6-10 below\n",
        " - [#a1_q11-15](https://opendatascience.slack.com/archives/C91N8TL83/p1549882499049900) for questions 11-15 below\n",
        " - [#a1_q16-20](https://opendatascience.slack.com/archives/C91N8TL83/p1549882508050200) for questions 16-20 below\n",
        " \n",
        "Help each other without sharing correct code and answers. Our TA Maxim @maximkeremet is there to help (only in the mentioned threads, do not write to him directly).\n",
        "\n",
        "Lastly, you can save useful messages by pinning them, further you can find pinned items on the top, just below the channel name:\n",
        "\n",
        "<img src=\"https://github.com/Yorko/mlcourse.ai/blob/master/img/pinned_item.png?raw=1\" />"
      ]
    },
    {
      "metadata": {
        "id": "TgAMUDi9WgrI",
        "colab_type": "code",
        "colab": {}
      },
      "cell_type": "code",
      "source": [
        "import numpy as np\n",
        "import pandas as pd\n",
        "# pip install seaborn \n",
        "import seaborn as sns\n",
        "import matplotlib.pyplot as plt"
      ],
      "execution_count": 0,
      "outputs": []
    },
    {
      "metadata": {
        "id": "-ZHeUJO7WgrL",
        "colab_type": "text"
      },
      "cell_type": "markdown",
      "source": [
        "* Download the data [archive](http://stat-computing.org/dataexpo/2009/2008.csv.bz2) (Archived ~ 114 Mb, unzipped - ~ 690 Mb, [alternative link](https://drive.google.com/file/d/1C5nTzitvJ0ho2Crpqnghg9r2yq98Xxun/view?usp=sharing)). No need to unzip - pandas can unbzip on the fly.\n",
        "* Place it in the \"../../data\" folder, or change the path below according to your location.\n",
        "* The dataset has information about carriers and flights between US airports during the year 2008. \n",
        "* Column description is available [here](http://www.transtats.bts.gov/Fields.asp?Table_ID=236). Visit this site to find ex. meaning of flight cancellation codes."
      ]
    },
    {
      "metadata": {
        "id": "zy_Khf8WWgrM",
        "colab_type": "text"
      },
      "cell_type": "markdown",
      "source": [
        "Consider the following terms we use:\n",
        "* unique flight - a record (row) in the dataset\n",
        "* completed flight = flight that is not cancelled (Cancelled==0 in the dataset)\n",
        "* flight code - a combination of ['UniqueCarrier','FlightNum'], i.e.  UA52\n",
        "* airport code - a three letter airport alias from 'Origin or 'Dest' columns"
      ]
    },
    {
      "metadata": {
        "id": "9EPQ46nfWgrN",
        "colab_type": "text"
      },
      "cell_type": "markdown",
      "source": [
        "**Reading data into memory and creating a Pandas ``DataFrame`` object**\n",
        "\n",
        "(This may take a while, be patient)\n",
        "\n",
        "We are not going to read in the whole dataset. In order to reduce memory footprint, we instead load only needed columns and cast them to suitable data types."
      ]
    },
    {
      "metadata": {
        "id": "V88WoxlFWgrO",
        "colab_type": "code",
        "colab": {}
      },
      "cell_type": "code",
      "source": [
        "dtype = {'DayOfWeek': np.uint8, 'DayofMonth': np.uint8, 'Month': np.uint8 , \n",
        "         'Cancelled': np.uint8, 'Year': np.uint16, 'FlightNum': np.uint16 , \n",
        "         'Distance': np.uint16, 'UniqueCarrier': str, 'CancellationCode': str, \n",
        "         'Origin': str, 'Dest': str, 'ArrDelay': np.float16, \n",
        "         'DepDelay': np.float16, 'CarrierDelay': np.float16, \n",
        "         'WeatherDelay': np.float16, 'NASDelay': np.float16, \n",
        "         'SecurityDelay': np.float16, 'LateAircraftDelay': np.float16, \n",
        "         'DepTime': np.float16}"
      ],
      "execution_count": 0,
      "outputs": []
    },
    {
      "metadata": {
        "id": "aU0ydWE2W_ua",
        "colab_type": "code",
        "outputId": "b3a0789a-f77e-426c-f5ef-363bb1dcbeba",
        "colab": {
          "base_uri": "https://localhost:8080/",
          "height": 208
        }
      },
      "cell_type": "code",
      "source": [
        "!wget http://stat-computing.org/dataexpo/2009/2008.csv.bz2"
      ],
      "execution_count": 3,
      "outputs": [
        {
          "output_type": "stream",
          "text": [
            "--2019-02-15 04:01:52--  http://stat-computing.org/dataexpo/2009/2008.csv.bz2\n",
            "Resolving stat-computing.org (stat-computing.org)... 52.218.245.67\n",
            "Connecting to stat-computing.org (stat-computing.org)|52.218.245.67|:80... connected.\n",
            "HTTP request sent, awaiting response... 200 OK\n",
            "Length: 113753229 (108M) [application/x-bzip2]\n",
            "Saving to: ‘2008.csv.bz2’\n",
            "\n",
            "2008.csv.bz2        100%[===================>] 108.48M  8.31MB/s    in 13s     \n",
            "\n",
            "2019-02-15 04:02:05 (8.59 MB/s) - ‘2008.csv.bz2’ saved [113753229/113753229]\n",
            "\n"
          ],
          "name": "stdout"
        }
      ]
    },
    {
      "metadata": {
        "id": "0atq9h95XIUK",
        "colab_type": "code",
        "outputId": "7336efd2-e0cd-4deb-dbf9-18cf542ddebe",
        "colab": {
          "base_uri": "https://localhost:8080/",
          "height": 35
        }
      },
      "cell_type": "code",
      "source": [
        "!ls"
      ],
      "execution_count": 4,
      "outputs": [
        {
          "output_type": "stream",
          "text": [
            "2008.csv.bz2  sample_data\n"
          ],
          "name": "stdout"
        }
      ]
    },
    {
      "metadata": {
        "id": "AtcUE6j5WgrQ",
        "colab_type": "code",
        "outputId": "a31fe98b-27b0-4838-f854-d8728a96355c",
        "colab": {
          "base_uri": "https://localhost:8080/",
          "height": 52
        }
      },
      "cell_type": "code",
      "source": [
        "%%time\n",
        "# change the path if needed\n",
        "path = '2008.csv.bz2'\n",
        "flights_df = pd.read_csv(path, usecols=dtype.keys(), dtype=dtype)"
      ],
      "execution_count": 5,
      "outputs": [
        {
          "output_type": "stream",
          "text": [
            "CPU times: user 54.2 s, sys: 1.13 s, total: 55.4 s\n",
            "Wall time: 55.4 s\n"
          ],
          "name": "stdout"
        }
      ]
    },
    {
      "metadata": {
        "id": "7uI-N95JWgrU",
        "colab_type": "text"
      },
      "cell_type": "markdown",
      "source": [
        "**Check the number of rows and columns and print column names.**"
      ]
    },
    {
      "metadata": {
        "id": "w2Qk1tC5WgrV",
        "colab_type": "code",
        "outputId": "c4d6f96d-71ad-48d3-80d2-e5c4079395b4",
        "colab": {
          "base_uri": "https://localhost:8080/",
          "height": 121
        }
      },
      "cell_type": "code",
      "source": [
        "print(flights_df.shape)\n",
        "print(flights_df.columns)"
      ],
      "execution_count": 6,
      "outputs": [
        {
          "output_type": "stream",
          "text": [
            "(7009728, 19)\n",
            "Index(['Year', 'Month', 'DayofMonth', 'DayOfWeek', 'DepTime', 'UniqueCarrier',\n",
            "       'FlightNum', 'ArrDelay', 'DepDelay', 'Origin', 'Dest', 'Distance',\n",
            "       'Cancelled', 'CancellationCode', 'CarrierDelay', 'WeatherDelay',\n",
            "       'NASDelay', 'SecurityDelay', 'LateAircraftDelay'],\n",
            "      dtype='object')\n"
          ],
          "name": "stdout"
        }
      ]
    },
    {
      "metadata": {
        "id": "xgcjt4WxWgrY",
        "colab_type": "text"
      },
      "cell_type": "markdown",
      "source": [
        "**Print first 5 rows of the dataset.**"
      ]
    },
    {
      "metadata": {
        "id": "e9sevIXsWgrZ",
        "colab_type": "code",
        "outputId": "00dbef0a-f8df-498d-8ce7-af835b361f7d",
        "colab": {
          "base_uri": "https://localhost:8080/",
          "height": 222
        }
      },
      "cell_type": "code",
      "source": [
        "flights_df.head()"
      ],
      "execution_count": 7,
      "outputs": [
        {
          "output_type": "execute_result",
          "data": {
            "text/html": [
              "<div>\n",
              "<style scoped>\n",
              "    .dataframe tbody tr th:only-of-type {\n",
              "        vertical-align: middle;\n",
              "    }\n",
              "\n",
              "    .dataframe tbody tr th {\n",
              "        vertical-align: top;\n",
              "    }\n",
              "\n",
              "    .dataframe thead th {\n",
              "        text-align: right;\n",
              "    }\n",
              "</style>\n",
              "<table border=\"1\" class=\"dataframe\">\n",
              "  <thead>\n",
              "    <tr style=\"text-align: right;\">\n",
              "      <th></th>\n",
              "      <th>Year</th>\n",
              "      <th>Month</th>\n",
              "      <th>DayofMonth</th>\n",
              "      <th>DayOfWeek</th>\n",
              "      <th>DepTime</th>\n",
              "      <th>UniqueCarrier</th>\n",
              "      <th>FlightNum</th>\n",
              "      <th>ArrDelay</th>\n",
              "      <th>DepDelay</th>\n",
              "      <th>Origin</th>\n",
              "      <th>Dest</th>\n",
              "      <th>Distance</th>\n",
              "      <th>Cancelled</th>\n",
              "      <th>CancellationCode</th>\n",
              "      <th>CarrierDelay</th>\n",
              "      <th>WeatherDelay</th>\n",
              "      <th>NASDelay</th>\n",
              "      <th>SecurityDelay</th>\n",
              "      <th>LateAircraftDelay</th>\n",
              "    </tr>\n",
              "  </thead>\n",
              "  <tbody>\n",
              "    <tr>\n",
              "      <th>0</th>\n",
              "      <td>2008</td>\n",
              "      <td>1</td>\n",
              "      <td>3</td>\n",
              "      <td>4</td>\n",
              "      <td>2003.0</td>\n",
              "      <td>WN</td>\n",
              "      <td>335</td>\n",
              "      <td>-14.0</td>\n",
              "      <td>8.0</td>\n",
              "      <td>IAD</td>\n",
              "      <td>TPA</td>\n",
              "      <td>810</td>\n",
              "      <td>0</td>\n",
              "      <td>NaN</td>\n",
              "      <td>NaN</td>\n",
              "      <td>NaN</td>\n",
              "      <td>NaN</td>\n",
              "      <td>NaN</td>\n",
              "      <td>NaN</td>\n",
              "    </tr>\n",
              "    <tr>\n",
              "      <th>1</th>\n",
              "      <td>2008</td>\n",
              "      <td>1</td>\n",
              "      <td>3</td>\n",
              "      <td>4</td>\n",
              "      <td>754.0</td>\n",
              "      <td>WN</td>\n",
              "      <td>3231</td>\n",
              "      <td>2.0</td>\n",
              "      <td>19.0</td>\n",
              "      <td>IAD</td>\n",
              "      <td>TPA</td>\n",
              "      <td>810</td>\n",
              "      <td>0</td>\n",
              "      <td>NaN</td>\n",
              "      <td>NaN</td>\n",
              "      <td>NaN</td>\n",
              "      <td>NaN</td>\n",
              "      <td>NaN</td>\n",
              "      <td>NaN</td>\n",
              "    </tr>\n",
              "    <tr>\n",
              "      <th>2</th>\n",
              "      <td>2008</td>\n",
              "      <td>1</td>\n",
              "      <td>3</td>\n",
              "      <td>4</td>\n",
              "      <td>628.0</td>\n",
              "      <td>WN</td>\n",
              "      <td>448</td>\n",
              "      <td>14.0</td>\n",
              "      <td>8.0</td>\n",
              "      <td>IND</td>\n",
              "      <td>BWI</td>\n",
              "      <td>515</td>\n",
              "      <td>0</td>\n",
              "      <td>NaN</td>\n",
              "      <td>NaN</td>\n",
              "      <td>NaN</td>\n",
              "      <td>NaN</td>\n",
              "      <td>NaN</td>\n",
              "      <td>NaN</td>\n",
              "    </tr>\n",
              "    <tr>\n",
              "      <th>3</th>\n",
              "      <td>2008</td>\n",
              "      <td>1</td>\n",
              "      <td>3</td>\n",
              "      <td>4</td>\n",
              "      <td>926.0</td>\n",
              "      <td>WN</td>\n",
              "      <td>1746</td>\n",
              "      <td>-6.0</td>\n",
              "      <td>-4.0</td>\n",
              "      <td>IND</td>\n",
              "      <td>BWI</td>\n",
              "      <td>515</td>\n",
              "      <td>0</td>\n",
              "      <td>NaN</td>\n",
              "      <td>NaN</td>\n",
              "      <td>NaN</td>\n",
              "      <td>NaN</td>\n",
              "      <td>NaN</td>\n",
              "      <td>NaN</td>\n",
              "    </tr>\n",
              "    <tr>\n",
              "      <th>4</th>\n",
              "      <td>2008</td>\n",
              "      <td>1</td>\n",
              "      <td>3</td>\n",
              "      <td>4</td>\n",
              "      <td>1829.0</td>\n",
              "      <td>WN</td>\n",
              "      <td>3920</td>\n",
              "      <td>34.0</td>\n",
              "      <td>34.0</td>\n",
              "      <td>IND</td>\n",
              "      <td>BWI</td>\n",
              "      <td>515</td>\n",
              "      <td>0</td>\n",
              "      <td>NaN</td>\n",
              "      <td>2.0</td>\n",
              "      <td>0.0</td>\n",
              "      <td>0.0</td>\n",
              "      <td>0.0</td>\n",
              "      <td>32.0</td>\n",
              "    </tr>\n",
              "  </tbody>\n",
              "</table>\n",
              "</div>"
            ],
            "text/plain": [
              "   Year  Month  DayofMonth  DayOfWeek  DepTime UniqueCarrier  FlightNum  \\\n",
              "0  2008      1           3          4   2003.0            WN        335   \n",
              "1  2008      1           3          4    754.0            WN       3231   \n",
              "2  2008      1           3          4    628.0            WN        448   \n",
              "3  2008      1           3          4    926.0            WN       1746   \n",
              "4  2008      1           3          4   1829.0            WN       3920   \n",
              "\n",
              "   ArrDelay  DepDelay Origin Dest  Distance  Cancelled CancellationCode  \\\n",
              "0     -14.0       8.0    IAD  TPA       810          0              NaN   \n",
              "1       2.0      19.0    IAD  TPA       810          0              NaN   \n",
              "2      14.0       8.0    IND  BWI       515          0              NaN   \n",
              "3      -6.0      -4.0    IND  BWI       515          0              NaN   \n",
              "4      34.0      34.0    IND  BWI       515          0              NaN   \n",
              "\n",
              "   CarrierDelay  WeatherDelay  NASDelay  SecurityDelay  LateAircraftDelay  \n",
              "0           NaN           NaN       NaN            NaN                NaN  \n",
              "1           NaN           NaN       NaN            NaN                NaN  \n",
              "2           NaN           NaN       NaN            NaN                NaN  \n",
              "3           NaN           NaN       NaN            NaN                NaN  \n",
              "4           2.0           0.0       0.0            0.0               32.0  "
            ]
          },
          "metadata": {
            "tags": []
          },
          "execution_count": 7
        }
      ]
    },
    {
      "metadata": {
        "id": "JaQZTXqTWgrb",
        "colab_type": "text"
      },
      "cell_type": "markdown",
      "source": [
        "**Transpose the frame to see all features at once.**"
      ]
    },
    {
      "metadata": {
        "id": "a7R5zw-JWgrc",
        "colab_type": "code",
        "outputId": "20e6bcf3-72d5-4b0e-aad7-92a00dcb4f95",
        "colab": {
          "base_uri": "https://localhost:8080/",
          "height": 631
        }
      },
      "cell_type": "code",
      "source": [
        "flights_df.head().T"
      ],
      "execution_count": 8,
      "outputs": [
        {
          "output_type": "execute_result",
          "data": {
            "text/html": [
              "<div>\n",
              "<style scoped>\n",
              "    .dataframe tbody tr th:only-of-type {\n",
              "        vertical-align: middle;\n",
              "    }\n",
              "\n",
              "    .dataframe tbody tr th {\n",
              "        vertical-align: top;\n",
              "    }\n",
              "\n",
              "    .dataframe thead th {\n",
              "        text-align: right;\n",
              "    }\n",
              "</style>\n",
              "<table border=\"1\" class=\"dataframe\">\n",
              "  <thead>\n",
              "    <tr style=\"text-align: right;\">\n",
              "      <th></th>\n",
              "      <th>0</th>\n",
              "      <th>1</th>\n",
              "      <th>2</th>\n",
              "      <th>3</th>\n",
              "      <th>4</th>\n",
              "    </tr>\n",
              "  </thead>\n",
              "  <tbody>\n",
              "    <tr>\n",
              "      <th>Year</th>\n",
              "      <td>2008</td>\n",
              "      <td>2008</td>\n",
              "      <td>2008</td>\n",
              "      <td>2008</td>\n",
              "      <td>2008</td>\n",
              "    </tr>\n",
              "    <tr>\n",
              "      <th>Month</th>\n",
              "      <td>1</td>\n",
              "      <td>1</td>\n",
              "      <td>1</td>\n",
              "      <td>1</td>\n",
              "      <td>1</td>\n",
              "    </tr>\n",
              "    <tr>\n",
              "      <th>DayofMonth</th>\n",
              "      <td>3</td>\n",
              "      <td>3</td>\n",
              "      <td>3</td>\n",
              "      <td>3</td>\n",
              "      <td>3</td>\n",
              "    </tr>\n",
              "    <tr>\n",
              "      <th>DayOfWeek</th>\n",
              "      <td>4</td>\n",
              "      <td>4</td>\n",
              "      <td>4</td>\n",
              "      <td>4</td>\n",
              "      <td>4</td>\n",
              "    </tr>\n",
              "    <tr>\n",
              "      <th>DepTime</th>\n",
              "      <td>2003</td>\n",
              "      <td>754</td>\n",
              "      <td>628</td>\n",
              "      <td>926</td>\n",
              "      <td>1829</td>\n",
              "    </tr>\n",
              "    <tr>\n",
              "      <th>UniqueCarrier</th>\n",
              "      <td>WN</td>\n",
              "      <td>WN</td>\n",
              "      <td>WN</td>\n",
              "      <td>WN</td>\n",
              "      <td>WN</td>\n",
              "    </tr>\n",
              "    <tr>\n",
              "      <th>FlightNum</th>\n",
              "      <td>335</td>\n",
              "      <td>3231</td>\n",
              "      <td>448</td>\n",
              "      <td>1746</td>\n",
              "      <td>3920</td>\n",
              "    </tr>\n",
              "    <tr>\n",
              "      <th>ArrDelay</th>\n",
              "      <td>-14</td>\n",
              "      <td>2</td>\n",
              "      <td>14</td>\n",
              "      <td>-6</td>\n",
              "      <td>34</td>\n",
              "    </tr>\n",
              "    <tr>\n",
              "      <th>DepDelay</th>\n",
              "      <td>8</td>\n",
              "      <td>19</td>\n",
              "      <td>8</td>\n",
              "      <td>-4</td>\n",
              "      <td>34</td>\n",
              "    </tr>\n",
              "    <tr>\n",
              "      <th>Origin</th>\n",
              "      <td>IAD</td>\n",
              "      <td>IAD</td>\n",
              "      <td>IND</td>\n",
              "      <td>IND</td>\n",
              "      <td>IND</td>\n",
              "    </tr>\n",
              "    <tr>\n",
              "      <th>Dest</th>\n",
              "      <td>TPA</td>\n",
              "      <td>TPA</td>\n",
              "      <td>BWI</td>\n",
              "      <td>BWI</td>\n",
              "      <td>BWI</td>\n",
              "    </tr>\n",
              "    <tr>\n",
              "      <th>Distance</th>\n",
              "      <td>810</td>\n",
              "      <td>810</td>\n",
              "      <td>515</td>\n",
              "      <td>515</td>\n",
              "      <td>515</td>\n",
              "    </tr>\n",
              "    <tr>\n",
              "      <th>Cancelled</th>\n",
              "      <td>0</td>\n",
              "      <td>0</td>\n",
              "      <td>0</td>\n",
              "      <td>0</td>\n",
              "      <td>0</td>\n",
              "    </tr>\n",
              "    <tr>\n",
              "      <th>CancellationCode</th>\n",
              "      <td>NaN</td>\n",
              "      <td>NaN</td>\n",
              "      <td>NaN</td>\n",
              "      <td>NaN</td>\n",
              "      <td>NaN</td>\n",
              "    </tr>\n",
              "    <tr>\n",
              "      <th>CarrierDelay</th>\n",
              "      <td>NaN</td>\n",
              "      <td>NaN</td>\n",
              "      <td>NaN</td>\n",
              "      <td>NaN</td>\n",
              "      <td>2</td>\n",
              "    </tr>\n",
              "    <tr>\n",
              "      <th>WeatherDelay</th>\n",
              "      <td>NaN</td>\n",
              "      <td>NaN</td>\n",
              "      <td>NaN</td>\n",
              "      <td>NaN</td>\n",
              "      <td>0</td>\n",
              "    </tr>\n",
              "    <tr>\n",
              "      <th>NASDelay</th>\n",
              "      <td>NaN</td>\n",
              "      <td>NaN</td>\n",
              "      <td>NaN</td>\n",
              "      <td>NaN</td>\n",
              "      <td>0</td>\n",
              "    </tr>\n",
              "    <tr>\n",
              "      <th>SecurityDelay</th>\n",
              "      <td>NaN</td>\n",
              "      <td>NaN</td>\n",
              "      <td>NaN</td>\n",
              "      <td>NaN</td>\n",
              "      <td>0</td>\n",
              "    </tr>\n",
              "    <tr>\n",
              "      <th>LateAircraftDelay</th>\n",
              "      <td>NaN</td>\n",
              "      <td>NaN</td>\n",
              "      <td>NaN</td>\n",
              "      <td>NaN</td>\n",
              "      <td>32</td>\n",
              "    </tr>\n",
              "  </tbody>\n",
              "</table>\n",
              "</div>"
            ],
            "text/plain": [
              "                      0     1     2     3     4\n",
              "Year               2008  2008  2008  2008  2008\n",
              "Month                 1     1     1     1     1\n",
              "DayofMonth            3     3     3     3     3\n",
              "DayOfWeek             4     4     4     4     4\n",
              "DepTime            2003   754   628   926  1829\n",
              "UniqueCarrier        WN    WN    WN    WN    WN\n",
              "FlightNum           335  3231   448  1746  3920\n",
              "ArrDelay            -14     2    14    -6    34\n",
              "DepDelay              8    19     8    -4    34\n",
              "Origin              IAD   IAD   IND   IND   IND\n",
              "Dest                TPA   TPA   BWI   BWI   BWI\n",
              "Distance            810   810   515   515   515\n",
              "Cancelled             0     0     0     0     0\n",
              "CancellationCode    NaN   NaN   NaN   NaN   NaN\n",
              "CarrierDelay        NaN   NaN   NaN   NaN     2\n",
              "WeatherDelay        NaN   NaN   NaN   NaN     0\n",
              "NASDelay            NaN   NaN   NaN   NaN     0\n",
              "SecurityDelay       NaN   NaN   NaN   NaN     0\n",
              "LateAircraftDelay   NaN   NaN   NaN   NaN    32"
            ]
          },
          "metadata": {
            "tags": []
          },
          "execution_count": 8
        }
      ]
    },
    {
      "metadata": {
        "id": "0KqwI6b6Wgri",
        "colab_type": "text"
      },
      "cell_type": "markdown",
      "source": [
        "**Examine data types of all features and total dataframe size in memory.**"
      ]
    },
    {
      "metadata": {
        "id": "bQlabVVUWgrm",
        "colab_type": "code",
        "outputId": "741975f1-2c31-4e9b-99bc-38bcec4739fc",
        "colab": {
          "base_uri": "https://localhost:8080/",
          "height": 433
        }
      },
      "cell_type": "code",
      "source": [
        "flights_df.info()"
      ],
      "execution_count": 9,
      "outputs": [
        {
          "output_type": "stream",
          "text": [
            "<class 'pandas.core.frame.DataFrame'>\n",
            "RangeIndex: 7009728 entries, 0 to 7009727\n",
            "Data columns (total 19 columns):\n",
            "Year                 uint16\n",
            "Month                uint8\n",
            "DayofMonth           uint8\n",
            "DayOfWeek            uint8\n",
            "DepTime              float16\n",
            "UniqueCarrier        object\n",
            "FlightNum            uint16\n",
            "ArrDelay             float16\n",
            "DepDelay             float16\n",
            "Origin               object\n",
            "Dest                 object\n",
            "Distance             uint16\n",
            "Cancelled            uint8\n",
            "CancellationCode     object\n",
            "CarrierDelay         float16\n",
            "WeatherDelay         float16\n",
            "NASDelay             float16\n",
            "SecurityDelay        float16\n",
            "LateAircraftDelay    float16\n",
            "dtypes: float16(8), object(4), uint16(3), uint8(4)\n",
            "memory usage: 387.7+ MB\n"
          ],
          "name": "stdout"
        }
      ]
    },
    {
      "metadata": {
        "id": "_xofmy6uWgrr",
        "colab_type": "text"
      },
      "cell_type": "markdown",
      "source": [
        "**Get basic statistics of each feature.**"
      ]
    },
    {
      "metadata": {
        "id": "qFJQdR4-Wgrs",
        "colab_type": "code",
        "outputId": "58a9fd6c-abb7-4d69-801f-76214f69b45e",
        "colab": {
          "base_uri": "https://localhost:8080/",
          "height": 509
        }
      },
      "cell_type": "code",
      "source": [
        "flights_df.describe().T"
      ],
      "execution_count": 10,
      "outputs": [
        {
          "output_type": "execute_result",
          "data": {
            "text/html": [
              "<div>\n",
              "<style scoped>\n",
              "    .dataframe tbody tr th:only-of-type {\n",
              "        vertical-align: middle;\n",
              "    }\n",
              "\n",
              "    .dataframe tbody tr th {\n",
              "        vertical-align: top;\n",
              "    }\n",
              "\n",
              "    .dataframe thead th {\n",
              "        text-align: right;\n",
              "    }\n",
              "</style>\n",
              "<table border=\"1\" class=\"dataframe\">\n",
              "  <thead>\n",
              "    <tr style=\"text-align: right;\">\n",
              "      <th></th>\n",
              "      <th>count</th>\n",
              "      <th>mean</th>\n",
              "      <th>std</th>\n",
              "      <th>min</th>\n",
              "      <th>25%</th>\n",
              "      <th>50%</th>\n",
              "      <th>75%</th>\n",
              "      <th>max</th>\n",
              "    </tr>\n",
              "  </thead>\n",
              "  <tbody>\n",
              "    <tr>\n",
              "      <th>Year</th>\n",
              "      <td>7009728.0</td>\n",
              "      <td>2008.000000</td>\n",
              "      <td>0.000000</td>\n",
              "      <td>2008.0</td>\n",
              "      <td>2008.0</td>\n",
              "      <td>2008.0</td>\n",
              "      <td>2008.0</td>\n",
              "      <td>2008.0</td>\n",
              "    </tr>\n",
              "    <tr>\n",
              "      <th>Month</th>\n",
              "      <td>7009728.0</td>\n",
              "      <td>6.375130</td>\n",
              "      <td>3.406737</td>\n",
              "      <td>1.0</td>\n",
              "      <td>3.0</td>\n",
              "      <td>6.0</td>\n",
              "      <td>9.0</td>\n",
              "      <td>12.0</td>\n",
              "    </tr>\n",
              "    <tr>\n",
              "      <th>DayofMonth</th>\n",
              "      <td>7009728.0</td>\n",
              "      <td>15.728015</td>\n",
              "      <td>8.797068</td>\n",
              "      <td>1.0</td>\n",
              "      <td>8.0</td>\n",
              "      <td>16.0</td>\n",
              "      <td>23.0</td>\n",
              "      <td>31.0</td>\n",
              "    </tr>\n",
              "    <tr>\n",
              "      <th>DayOfWeek</th>\n",
              "      <td>7009728.0</td>\n",
              "      <td>3.924182</td>\n",
              "      <td>1.988259</td>\n",
              "      <td>1.0</td>\n",
              "      <td>2.0</td>\n",
              "      <td>4.0</td>\n",
              "      <td>6.0</td>\n",
              "      <td>7.0</td>\n",
              "    </tr>\n",
              "    <tr>\n",
              "      <th>DepTime</th>\n",
              "      <td>6873482.0</td>\n",
              "      <td>NaN</td>\n",
              "      <td>NaN</td>\n",
              "      <td>1.0</td>\n",
              "      <td>928.0</td>\n",
              "      <td>1325.0</td>\n",
              "      <td>1728.0</td>\n",
              "      <td>2400.0</td>\n",
              "    </tr>\n",
              "    <tr>\n",
              "      <th>FlightNum</th>\n",
              "      <td>7009728.0</td>\n",
              "      <td>2224.200105</td>\n",
              "      <td>1961.715999</td>\n",
              "      <td>1.0</td>\n",
              "      <td>622.0</td>\n",
              "      <td>1571.0</td>\n",
              "      <td>3518.0</td>\n",
              "      <td>9743.0</td>\n",
              "    </tr>\n",
              "    <tr>\n",
              "      <th>ArrDelay</th>\n",
              "      <td>6855029.0</td>\n",
              "      <td>NaN</td>\n",
              "      <td>NaN</td>\n",
              "      <td>-519.0</td>\n",
              "      <td>-10.0</td>\n",
              "      <td>-2.0</td>\n",
              "      <td>12.0</td>\n",
              "      <td>2460.0</td>\n",
              "    </tr>\n",
              "    <tr>\n",
              "      <th>DepDelay</th>\n",
              "      <td>6873482.0</td>\n",
              "      <td>NaN</td>\n",
              "      <td>NaN</td>\n",
              "      <td>-534.0</td>\n",
              "      <td>-4.0</td>\n",
              "      <td>-1.0</td>\n",
              "      <td>8.0</td>\n",
              "      <td>2468.0</td>\n",
              "    </tr>\n",
              "    <tr>\n",
              "      <th>Distance</th>\n",
              "      <td>7009728.0</td>\n",
              "      <td>726.387029</td>\n",
              "      <td>562.101803</td>\n",
              "      <td>11.0</td>\n",
              "      <td>325.0</td>\n",
              "      <td>581.0</td>\n",
              "      <td>954.0</td>\n",
              "      <td>4962.0</td>\n",
              "    </tr>\n",
              "    <tr>\n",
              "      <th>Cancelled</th>\n",
              "      <td>7009728.0</td>\n",
              "      <td>0.019606</td>\n",
              "      <td>0.138643</td>\n",
              "      <td>0.0</td>\n",
              "      <td>0.0</td>\n",
              "      <td>0.0</td>\n",
              "      <td>0.0</td>\n",
              "      <td>1.0</td>\n",
              "    </tr>\n",
              "    <tr>\n",
              "      <th>CarrierDelay</th>\n",
              "      <td>1524735.0</td>\n",
              "      <td>NaN</td>\n",
              "      <td>NaN</td>\n",
              "      <td>0.0</td>\n",
              "      <td>0.0</td>\n",
              "      <td>0.0</td>\n",
              "      <td>16.0</td>\n",
              "      <td>2436.0</td>\n",
              "    </tr>\n",
              "    <tr>\n",
              "      <th>WeatherDelay</th>\n",
              "      <td>1524735.0</td>\n",
              "      <td>NaN</td>\n",
              "      <td>NaN</td>\n",
              "      <td>0.0</td>\n",
              "      <td>0.0</td>\n",
              "      <td>0.0</td>\n",
              "      <td>0.0</td>\n",
              "      <td>1352.0</td>\n",
              "    </tr>\n",
              "    <tr>\n",
              "      <th>NASDelay</th>\n",
              "      <td>1524735.0</td>\n",
              "      <td>NaN</td>\n",
              "      <td>NaN</td>\n",
              "      <td>0.0</td>\n",
              "      <td>0.0</td>\n",
              "      <td>6.0</td>\n",
              "      <td>21.0</td>\n",
              "      <td>1357.0</td>\n",
              "    </tr>\n",
              "    <tr>\n",
              "      <th>SecurityDelay</th>\n",
              "      <td>1524735.0</td>\n",
              "      <td>NaN</td>\n",
              "      <td>NaN</td>\n",
              "      <td>0.0</td>\n",
              "      <td>0.0</td>\n",
              "      <td>0.0</td>\n",
              "      <td>0.0</td>\n",
              "      <td>392.0</td>\n",
              "    </tr>\n",
              "    <tr>\n",
              "      <th>LateAircraftDelay</th>\n",
              "      <td>1524735.0</td>\n",
              "      <td>NaN</td>\n",
              "      <td>NaN</td>\n",
              "      <td>0.0</td>\n",
              "      <td>0.0</td>\n",
              "      <td>0.0</td>\n",
              "      <td>26.0</td>\n",
              "      <td>1316.0</td>\n",
              "    </tr>\n",
              "  </tbody>\n",
              "</table>\n",
              "</div>"
            ],
            "text/plain": [
              "                       count         mean          std     min     25%  \\\n",
              "Year               7009728.0  2008.000000     0.000000  2008.0  2008.0   \n",
              "Month              7009728.0     6.375130     3.406737     1.0     3.0   \n",
              "DayofMonth         7009728.0    15.728015     8.797068     1.0     8.0   \n",
              "DayOfWeek          7009728.0     3.924182     1.988259     1.0     2.0   \n",
              "DepTime            6873482.0          NaN          NaN     1.0   928.0   \n",
              "FlightNum          7009728.0  2224.200105  1961.715999     1.0   622.0   \n",
              "ArrDelay           6855029.0          NaN          NaN  -519.0   -10.0   \n",
              "DepDelay           6873482.0          NaN          NaN  -534.0    -4.0   \n",
              "Distance           7009728.0   726.387029   562.101803    11.0   325.0   \n",
              "Cancelled          7009728.0     0.019606     0.138643     0.0     0.0   \n",
              "CarrierDelay       1524735.0          NaN          NaN     0.0     0.0   \n",
              "WeatherDelay       1524735.0          NaN          NaN     0.0     0.0   \n",
              "NASDelay           1524735.0          NaN          NaN     0.0     0.0   \n",
              "SecurityDelay      1524735.0          NaN          NaN     0.0     0.0   \n",
              "LateAircraftDelay  1524735.0          NaN          NaN     0.0     0.0   \n",
              "\n",
              "                      50%     75%     max  \n",
              "Year               2008.0  2008.0  2008.0  \n",
              "Month                 6.0     9.0    12.0  \n",
              "DayofMonth           16.0    23.0    31.0  \n",
              "DayOfWeek             4.0     6.0     7.0  \n",
              "DepTime            1325.0  1728.0  2400.0  \n",
              "FlightNum          1571.0  3518.0  9743.0  \n",
              "ArrDelay             -2.0    12.0  2460.0  \n",
              "DepDelay             -1.0     8.0  2468.0  \n",
              "Distance            581.0   954.0  4962.0  \n",
              "Cancelled             0.0     0.0     1.0  \n",
              "CarrierDelay          0.0    16.0  2436.0  \n",
              "WeatherDelay          0.0     0.0  1352.0  \n",
              "NASDelay              6.0    21.0  1357.0  \n",
              "SecurityDelay         0.0     0.0   392.0  \n",
              "LateAircraftDelay     0.0    26.0  1316.0  "
            ]
          },
          "metadata": {
            "tags": []
          },
          "execution_count": 10
        }
      ]
    },
    {
      "metadata": {
        "id": "iCcKz7c3Wgrw",
        "colab_type": "text"
      },
      "cell_type": "markdown",
      "source": [
        "**Count unique Carriers and plot their relative share of flights:**"
      ]
    },
    {
      "metadata": {
        "id": "qplm4WpGWgrx",
        "colab_type": "code",
        "outputId": "adf2b45c-004e-4065-aa2c-cbee3dc725b2",
        "colab": {
          "base_uri": "https://localhost:8080/",
          "height": 35
        }
      },
      "cell_type": "code",
      "source": [
        "flights_df['UniqueCarrier'].nunique()"
      ],
      "execution_count": 11,
      "outputs": [
        {
          "output_type": "execute_result",
          "data": {
            "text/plain": [
              "20"
            ]
          },
          "metadata": {
            "tags": []
          },
          "execution_count": 11
        }
      ]
    },
    {
      "metadata": {
        "scrolled": true,
        "id": "tkSFkt61Wgr2",
        "colab_type": "code",
        "outputId": "fb88ba84-3655-43a6-b1b0-8d94ddc41f2f",
        "colab": {
          "base_uri": "https://localhost:8080/",
          "height": 369
        }
      },
      "cell_type": "code",
      "source": [
        "flights_df.groupby('UniqueCarrier').size().plot(kind='bar');"
      ],
      "execution_count": 12,
      "outputs": [
        {
          "output_type": "display_data",
          "data": {
            "image/png": "[encoded data removed]",
            "text/plain": [
              "<Figure size 576x396 with 1 Axes>"
            ]
          },
          "metadata": {
            "tags": []
          }
        }
      ]
    },
    {
      "metadata": {
        "id": "2df35ot4Wgr6",
        "colab_type": "text"
      },
      "cell_type": "markdown",
      "source": [
        "**We can also _group by_ category/categories in order to calculate different aggregated statistics.**\n",
        "\n",
        "**For example, finding top-3 flight codes, that have the largest total distance travelled in year 2008.**"
      ]
    },
    {
      "metadata": {
        "id": "9eZonbgQWgr8",
        "colab_type": "code",
        "outputId": "01a28d4a-0087-4850-8c96-e4907781c3f8",
        "colab": {
          "base_uri": "https://localhost:8080/",
          "height": 104
        }
      },
      "cell_type": "code",
      "source": [
        "flights_df.groupby(['UniqueCarrier','FlightNum'])['Distance'].sum().sort_values(\n",
        "    ascending=False).iloc[:3]"
      ],
      "execution_count": 13,
      "outputs": [
        {
          "output_type": "execute_result",
          "data": {
            "text/plain": [
              "UniqueCarrier  FlightNum\n",
              "CO             15           1796244.0\n",
              "               14           1796244.0\n",
              "UA             52           1789722.0\n",
              "Name: Distance, dtype: float64"
            ]
          },
          "metadata": {
            "tags": []
          },
          "execution_count": 13
        }
      ]
    },
    {
      "metadata": {
        "id": "Wu5ewnDiWgsF",
        "colab_type": "text"
      },
      "cell_type": "markdown",
      "source": [
        "**Another way:**"
      ]
    },
    {
      "metadata": {
        "id": "8lhxRfFWWgsH",
        "colab_type": "code",
        "outputId": "455dd490-a877-4411-ca9d-092d984fdba3",
        "colab": {
          "base_uri": "https://localhost:8080/",
          "height": 202
        }
      },
      "cell_type": "code",
      "source": [
        "flights_df.groupby(['UniqueCarrier','FlightNum'])\\\n",
        "  .agg({'Distance': [np.mean, np.sum, 'count'],\n",
        "        'Cancelled': np.sum})\\\n",
        "  .sort_values(('Distance', 'sum'), ascending=False)\\\n",
        "  .iloc[0:3]"
      ],
      "execution_count": 14,
      "outputs": [
        {
          "output_type": "execute_result",
          "data": {
            "text/html": [
              "<div>\n",
              "<style scoped>\n",
              "    .dataframe tbody tr th:only-of-type {\n",
              "        vertical-align: middle;\n",
              "    }\n",
              "\n",
              "    .dataframe tbody tr th {\n",
              "        vertical-align: top;\n",
              "    }\n",
              "\n",
              "    .dataframe thead tr th {\n",
              "        text-align: left;\n",
              "    }\n",
              "\n",
              "    .dataframe thead tr:last-of-type th {\n",
              "        text-align: right;\n",
              "    }\n",
              "</style>\n",
              "<table border=\"1\" class=\"dataframe\">\n",
              "  <thead>\n",
              "    <tr>\n",
              "      <th></th>\n",
              "      <th></th>\n",
              "      <th colspan=\"3\" halign=\"left\">Distance</th>\n",
              "      <th>Cancelled</th>\n",
              "    </tr>\n",
              "    <tr>\n",
              "      <th></th>\n",
              "      <th></th>\n",
              "      <th>mean</th>\n",
              "      <th>sum</th>\n",
              "      <th>count</th>\n",
              "      <th>sum</th>\n",
              "    </tr>\n",
              "    <tr>\n",
              "      <th>UniqueCarrier</th>\n",
              "      <th>FlightNum</th>\n",
              "      <th></th>\n",
              "      <th></th>\n",
              "      <th></th>\n",
              "      <th></th>\n",
              "    </tr>\n",
              "  </thead>\n",
              "  <tbody>\n",
              "    <tr>\n",
              "      <th rowspan=\"2\" valign=\"top\">CO</th>\n",
              "      <th>15</th>\n",
              "      <td>4962.000000</td>\n",
              "      <td>1796244.0</td>\n",
              "      <td>362</td>\n",
              "      <td>0</td>\n",
              "    </tr>\n",
              "    <tr>\n",
              "      <th>14</th>\n",
              "      <td>4962.000000</td>\n",
              "      <td>1796244.0</td>\n",
              "      <td>362</td>\n",
              "      <td>0</td>\n",
              "    </tr>\n",
              "    <tr>\n",
              "      <th>UA</th>\n",
              "      <th>52</th>\n",
              "      <td>2465.181818</td>\n",
              "      <td>1789722.0</td>\n",
              "      <td>726</td>\n",
              "      <td>8</td>\n",
              "    </tr>\n",
              "  </tbody>\n",
              "</table>\n",
              "</div>"
            ],
            "text/plain": [
              "                            Distance                  Cancelled\n",
              "                                mean        sum count       sum\n",
              "UniqueCarrier FlightNum                                        \n",
              "CO            15         4962.000000  1796244.0   362         0\n",
              "              14         4962.000000  1796244.0   362         0\n",
              "UA            52         2465.181818  1789722.0   726         8"
            ]
          },
          "metadata": {
            "tags": []
          },
          "execution_count": 14
        }
      ]
    },
    {
      "metadata": {
        "id": "29tkhcSkWgsL",
        "colab_type": "text"
      },
      "cell_type": "markdown",
      "source": [
        "**Number of flights by days of week and months:**"
      ]
    },
    {
      "metadata": {
        "id": "-HzTjzI3WgsM",
        "colab_type": "code",
        "outputId": "5aba8678-4214-40c8-da9f-dd1d34830298",
        "colab": {
          "base_uri": "https://localhost:8080/",
          "height": 447
        }
      },
      "cell_type": "code",
      "source": [
        "pd.crosstab(flights_df.Month, flights_df.DayOfWeek)"
      ],
      "execution_count": 15,
      "outputs": [
        {
          "output_type": "execute_result",
          "data": {
            "text/html": [
              "<div>\n",
              "<style scoped>\n",
              "    .dataframe tbody tr th:only-of-type {\n",
              "        vertical-align: middle;\n",
              "    }\n",
              "\n",
              "    .dataframe tbody tr th {\n",
              "        vertical-align: top;\n",
              "    }\n",
              "\n",
              "    .dataframe thead th {\n",
              "        text-align: right;\n",
              "    }\n",
              "</style>\n",
              "<table border=\"1\" class=\"dataframe\">\n",
              "  <thead>\n",
              "    <tr style=\"text-align: right;\">\n",
              "      <th>DayOfWeek</th>\n",
              "      <th>1</th>\n",
              "      <th>2</th>\n",
              "      <th>3</th>\n",
              "      <th>4</th>\n",
              "      <th>5</th>\n",
              "      <th>6</th>\n",
              "      <th>7</th>\n",
              "    </tr>\n",
              "    <tr>\n",
              "      <th>Month</th>\n",
              "      <th></th>\n",
              "      <th></th>\n",
              "      <th></th>\n",
              "      <th></th>\n",
              "      <th></th>\n",
              "      <th></th>\n",
              "      <th></th>\n",
              "    </tr>\n",
              "  </thead>\n",
              "  <tbody>\n",
              "    <tr>\n",
              "      <th>1</th>\n",
              "      <td>80807</td>\n",
              "      <td>97298</td>\n",
              "      <td>100080</td>\n",
              "      <td>102043</td>\n",
              "      <td>81940</td>\n",
              "      <td>67178</td>\n",
              "      <td>76419</td>\n",
              "    </tr>\n",
              "    <tr>\n",
              "      <th>2</th>\n",
              "      <td>81504</td>\n",
              "      <td>79700</td>\n",
              "      <td>80587</td>\n",
              "      <td>82158</td>\n",
              "      <td>102726</td>\n",
              "      <td>66462</td>\n",
              "      <td>76099</td>\n",
              "    </tr>\n",
              "    <tr>\n",
              "      <th>3</th>\n",
              "      <td>103210</td>\n",
              "      <td>81159</td>\n",
              "      <td>82307</td>\n",
              "      <td>82831</td>\n",
              "      <td>82936</td>\n",
              "      <td>86153</td>\n",
              "      <td>97494</td>\n",
              "    </tr>\n",
              "    <tr>\n",
              "      <th>4</th>\n",
              "      <td>82463</td>\n",
              "      <td>100785</td>\n",
              "      <td>102586</td>\n",
              "      <td>82799</td>\n",
              "      <td>82964</td>\n",
              "      <td>68304</td>\n",
              "      <td>78225</td>\n",
              "    </tr>\n",
              "    <tr>\n",
              "      <th>5</th>\n",
              "      <td>80626</td>\n",
              "      <td>79884</td>\n",
              "      <td>81264</td>\n",
              "      <td>102572</td>\n",
              "      <td>102878</td>\n",
              "      <td>84493</td>\n",
              "      <td>74576</td>\n",
              "    </tr>\n",
              "    <tr>\n",
              "      <th>6</th>\n",
              "      <td>104168</td>\n",
              "      <td>82160</td>\n",
              "      <td>82902</td>\n",
              "      <td>83617</td>\n",
              "      <td>83930</td>\n",
              "      <td>72322</td>\n",
              "      <td>99566</td>\n",
              "    </tr>\n",
              "    <tr>\n",
              "      <th>7</th>\n",
              "      <td>84095</td>\n",
              "      <td>103429</td>\n",
              "      <td>103315</td>\n",
              "      <td>105035</td>\n",
              "      <td>79349</td>\n",
              "      <td>72219</td>\n",
              "      <td>80489</td>\n",
              "    </tr>\n",
              "    <tr>\n",
              "      <th>8</th>\n",
              "      <td>82983</td>\n",
              "      <td>80895</td>\n",
              "      <td>81773</td>\n",
              "      <td>82625</td>\n",
              "      <td>103878</td>\n",
              "      <td>86155</td>\n",
              "      <td>93970</td>\n",
              "    </tr>\n",
              "    <tr>\n",
              "      <th>9</th>\n",
              "      <td>94300</td>\n",
              "      <td>91533</td>\n",
              "      <td>74057</td>\n",
              "      <td>75589</td>\n",
              "      <td>75881</td>\n",
              "      <td>58343</td>\n",
              "      <td>71205</td>\n",
              "    </tr>\n",
              "    <tr>\n",
              "      <th>10</th>\n",
              "      <td>75131</td>\n",
              "      <td>72195</td>\n",
              "      <td>91900</td>\n",
              "      <td>94123</td>\n",
              "      <td>93894</td>\n",
              "      <td>58168</td>\n",
              "      <td>70794</td>\n",
              "    </tr>\n",
              "    <tr>\n",
              "      <th>11</th>\n",
              "      <td>74214</td>\n",
              "      <td>72443</td>\n",
              "      <td>73653</td>\n",
              "      <td>68071</td>\n",
              "      <td>70484</td>\n",
              "      <td>76031</td>\n",
              "      <td>88376</td>\n",
              "    </tr>\n",
              "    <tr>\n",
              "      <th>12</th>\n",
              "      <td>92700</td>\n",
              "      <td>90568</td>\n",
              "      <td>85241</td>\n",
              "      <td>70761</td>\n",
              "      <td>74306</td>\n",
              "      <td>61708</td>\n",
              "      <td>69674</td>\n",
              "    </tr>\n",
              "  </tbody>\n",
              "</table>\n",
              "</div>"
            ],
            "text/plain": [
              "DayOfWeek       1       2       3       4       5      6      7\n",
              "Month                                                          \n",
              "1           80807   97298  100080  102043   81940  67178  76419\n",
              "2           81504   79700   80587   82158  102726  66462  76099\n",
              "3          103210   81159   82307   82831   82936  86153  97494\n",
              "4           82463  100785  102586   82799   82964  68304  78225\n",
              "5           80626   79884   81264  102572  102878  84493  74576\n",
              "6          104168   82160   82902   83617   83930  72322  99566\n",
              "7           84095  103429  103315  105035   79349  72219  80489\n",
              "8           82983   80895   81773   82625  103878  86155  93970\n",
              "9           94300   91533   74057   75589   75881  58343  71205\n",
              "10          75131   72195   91900   94123   93894  58168  70794\n",
              "11          74214   72443   73653   68071   70484  76031  88376\n",
              "12          92700   90568   85241   70761   74306  61708  69674"
            ]
          },
          "metadata": {
            "tags": []
          },
          "execution_count": 15
        }
      ]
    },
    {
      "metadata": {
        "id": "xe-QxMXIWgsP",
        "colab_type": "text"
      },
      "cell_type": "markdown",
      "source": [
        "**It can also be handy to color such tables in order to easily notice outliers:**"
      ]
    },
    {
      "metadata": {
        "scrolled": true,
        "id": "7qPvD5fXWgsP",
        "colab_type": "code",
        "outputId": "b7e7b492-172b-4c30-cbfe-bf8e45f9f95f",
        "colab": {
          "base_uri": "https://localhost:8080/",
          "height": 347
        }
      },
      "cell_type": "code",
      "source": [
        "plt.imshow(pd.crosstab(flights_df.Month, flights_df.DayOfWeek),\n",
        "           cmap='seismic', interpolation='none');"
      ],
      "execution_count": 16,
      "outputs": [
        {
          "output_type": "display_data",
          "data": {
            "image/png": "[encoded data removed]",
            "text/plain": [
              "<Figure size 576x396 with 1 Axes>"
            ]
          },
          "metadata": {
            "tags": []
          }
        }
      ]
    },
    {
      "metadata": {
        "id": "lJcJPbRPWgsR",
        "colab_type": "text"
      },
      "cell_type": "markdown",
      "source": [
        "**Flight distance histogram:**"
      ]
    },
    {
      "metadata": {
        "scrolled": false,
        "id": "OZSc4UDcWgsS",
        "colab_type": "code",
        "outputId": "5e74997f-6878-4267-e1c7-bf709158ade5",
        "colab": {
          "base_uri": "https://localhost:8080/",
          "height": 363
        }
      },
      "cell_type": "code",
      "source": [
        "flights_df.hist('Distance', bins=20);"
      ],
      "execution_count": 17,
      "outputs": [
        {
          "output_type": "display_data",
          "data": {
            "image/png": "[encoded data removed]",
            "text/plain": [
              "<Figure size 576x396 with 1 Axes>"
            ]
          },
          "metadata": {
            "tags": []
          }
        }
      ]
    },
    {
      "metadata": {
        "id": "yl_awe3hWgsV",
        "colab_type": "text"
      },
      "cell_type": "markdown",
      "source": [
        "**Making a histogram of flight frequency by date.**"
      ]
    },
    {
      "metadata": {
        "id": "nCksrC98WgsW",
        "colab_type": "code",
        "colab": {}
      },
      "cell_type": "code",
      "source": [
        "flights_df['Date'] = pd.to_datetime(flights_df.rename(\n",
        "    columns={'DayofMonth': 'Day'})[['Year', 'Month', 'Day']])"
      ],
      "execution_count": 0,
      "outputs": []
    },
    {
      "metadata": {
        "id": "ooIKXEcvWgsX",
        "colab_type": "code",
        "colab": {}
      },
      "cell_type": "code",
      "source": [
        "num_flights_by_date = flights_df.groupby('Date').size()"
      ],
      "execution_count": 0,
      "outputs": []
    },
    {
      "metadata": {
        "scrolled": true,
        "id": "Elm_d3oPWgsZ",
        "colab_type": "code",
        "outputId": "6086b1d8-6d5e-430e-f5ec-391c16dc0f58",
        "colab": {
          "base_uri": "https://localhost:8080/",
          "height": 373
        }
      },
      "cell_type": "code",
      "source": [
        "num_flights_by_date.plot();"
      ],
      "execution_count": 20,
      "outputs": [
        {
          "output_type": "display_data",
          "data": {
            "image/png": "[encoded data removed]",
            "text/plain": [
              "<Figure size 576x396 with 1 Axes>"
            ]
          },
          "metadata": {
            "tags": []
          }
        }
      ]
    },
    {
      "metadata": {
        "id": "chBNlKa3Wgsc",
        "colab_type": "text"
      },
      "cell_type": "markdown",
      "source": [
        "**Do you see a weekly pattern above? And below?**"
      ]
    },
    {
      "metadata": {
        "id": "y4IIIHRlWgsd",
        "colab_type": "code",
        "outputId": "a7222ab1-0e2b-40cf-bd63-77b7be25741a",
        "colab": {
          "base_uri": "https://localhost:8080/",
          "height": 373
        }
      },
      "cell_type": "code",
      "source": [
        "num_flights_by_date.rolling(window=7).mean().plot();"
      ],
      "execution_count": 21,
      "outputs": [
        {
          "output_type": "display_data",
          "data": {
            "image/png": "[encoded data removed]",
            "text/plain": [
              "<Figure size 576x396 with 1 Axes>"
            ]
          },
          "metadata": {
            "tags": []
          }
        }
      ]
    },
    {
      "metadata": {
        "id": "9nViiMGrWgsf",
        "colab_type": "text"
      },
      "cell_type": "markdown",
      "source": [
        "**We'll need a new column in our dataset - departure hour, let's create it.**\n",
        "\n",
        "As we see, `DepTime` is distributed from 1 to 2400 (it is given in the `hhmm` format, check the [column description](https://www.transtats.bts.gov/Fields.asp?Table_ID=236) again). We'll treat departure hour as `DepTime` // 100 (divide by 100 and apply the `floor` function). However, now we'll have both hour 0 and hour 24. Hour 24 sounds strange, we'll set it to be 0 instead (a typical imperfectness of real data, however, you can check that it affects only 521 rows, which is sort of not a big deal). So now values of a new column `DepHour` will be distributed from 0 to 23. There are some missing values, for now we won't fill in them, just ignore them. "
      ]
    },
    {
      "metadata": {
        "id": "0deT3XLsWgsf",
        "colab_type": "code",
        "colab": {}
      },
      "cell_type": "code",
      "source": [
        "flights_df['DepHour'] = flights_df['DepTime'] // 100\n",
        "flights_df['DepHour'].replace(to_replace=24, value=0, inplace=True)"
      ],
      "execution_count": 0,
      "outputs": []
    },
    {
      "metadata": {
        "id": "wDHXSvPQWgsh",
        "colab_type": "code",
        "outputId": "ec0bbac0-9fab-4107-ff52-ddd8c7e10c7a",
        "colab": {
          "base_uri": "https://localhost:8080/",
          "height": 173
        }
      },
      "cell_type": "code",
      "source": [
        "flights_df['DepHour'].describe()"
      ],
      "execution_count": 23,
      "outputs": [
        {
          "output_type": "execute_result",
          "data": {
            "text/plain": [
              "count    6873482.0\n",
              "mean           NaN\n",
              "std            0.0\n",
              "min            0.0\n",
              "25%            9.0\n",
              "50%           13.0\n",
              "75%           17.0\n",
              "max           23.0\n",
              "Name: DepHour, dtype: float64"
            ]
          },
          "metadata": {
            "tags": []
          },
          "execution_count": 23
        }
      ]
    },
    {
      "metadata": {
        "id": "XIg7FoHQWgsj",
        "colab_type": "text"
      },
      "cell_type": "markdown",
      "source": [
        "### Now it's your turn. Answer the questions below."
      ]
    },
    {
      "metadata": {
        "id": "ANFVQYyxWgsk",
        "colab_type": "text"
      },
      "cell_type": "markdown",
      "source": [
        "**1. How many unique carriers are there in our dataset?**\n",
        "\n",
        "- 10\n",
        "- 15\n",
        "- 20\n",
        "- 25 "
      ]
    },
    {
      "metadata": {
        "id": "IL_E2YrkWgsl",
        "colab_type": "code",
        "outputId": "b3cd28b2-a0c7-4b45-8419-3ba3504ea92c",
        "colab": {
          "base_uri": "https://localhost:8080/",
          "height": 35
        }
      },
      "cell_type": "code",
      "source": [
        "flights_df['UniqueCarrier'].nunique()"
      ],
      "execution_count": 24,
      "outputs": [
        {
          "output_type": "execute_result",
          "data": {
            "text/plain": [
              "20"
            ]
          },
          "metadata": {
            "tags": []
          },
          "execution_count": 24
        }
      ]
    },
    {
      "metadata": {
        "id": "V0MSzwR-Wgsn",
        "colab_type": "text"
      },
      "cell_type": "markdown",
      "source": [
        "**2. We have  both cancelled and completed flights in the datset. Check if there are more completed or cancelled flights. What is the difference?** <br>\n",
        "\n",
        "*Hint:* Take a look at *Cancelled* to see the categories and *FlightNum* column to calculate unique flights for each category.\n",
        "\n",
        "- Cancelled overweights completed by 329 flights\n",
        "- Completed overweights cancelled by 6734860 flights\n",
        "- Cancelled overweights completed by 671 flights\n",
        "- Completed overweights cancelled by 11088967 flights"
      ]
    },
    {
      "metadata": {
        "id": "5uV98r0EYXtK",
        "colab_type": "code",
        "outputId": "f82bc3f8-121d-4044-f48d-2f0083dbb58c",
        "colab": {
          "base_uri": "https://localhost:8080/",
          "height": 69
        }
      },
      "cell_type": "code",
      "source": [
        "flights_df['Cancelled'].value_counts()"
      ],
      "execution_count": 25,
      "outputs": [
        {
          "output_type": "execute_result",
          "data": {
            "text/plain": [
              "0    6872294\n",
              "1     137434\n",
              "Name: Cancelled, dtype: int64"
            ]
          },
          "metadata": {
            "tags": []
          },
          "execution_count": 25
        }
      ]
    },
    {
      "metadata": {
        "id": "f5nXHXTWWgsn",
        "colab_type": "code",
        "outputId": "c3c5fa33-c0d6-4eb5-be61-689d9ec83a96",
        "colab": {
          "base_uri": "https://localhost:8080/",
          "height": 35
        }
      },
      "cell_type": "code",
      "source": [
        "#Completed - Cancelled\n",
        "flights_df['Cancelled'].value_counts()[0]-flights_df['Cancelled'].value_counts()[1]"
      ],
      "execution_count": 26,
      "outputs": [
        {
          "output_type": "execute_result",
          "data": {
            "text/plain": [
              "6734860"
            ]
          },
          "metadata": {
            "tags": []
          },
          "execution_count": 26
        }
      ]
    },
    {
      "metadata": {
        "id": "2di1SlHSWgsq",
        "colab_type": "text"
      },
      "cell_type": "markdown",
      "source": [
        "**3. Find a flight with the longest departure delays and a flight with the longest arrival delay. Do they have the same destination airport, and if yes, what is its code?**\n",
        "\n",
        "- yes, ATL\n",
        "- yes, HNL\n",
        "- yes, MSP\n",
        "- no"
      ]
    },
    {
      "metadata": {
        "id": "BcbLmUWmWgsr",
        "colab_type": "code",
        "outputId": "b23bc484-6d65-4b03-811e-d166ef55491e",
        "colab": {
          "base_uri": "https://localhost:8080/",
          "height": 52
        }
      },
      "cell_type": "code",
      "source": [
        "flights_df[flights_df['DepDelay'] == flights_df['DepDelay'].max()]['Dest']"
      ],
      "execution_count": 27,
      "outputs": [
        {
          "output_type": "execute_result",
          "data": {
            "text/plain": [
              "2235378    MSP\n",
              "Name: Dest, dtype: object"
            ]
          },
          "metadata": {
            "tags": []
          },
          "execution_count": 27
        }
      ]
    },
    {
      "metadata": {
        "id": "YnuSChAzar6V",
        "colab_type": "code",
        "outputId": "fb6c1ac1-e4f5-46ce-edff-6579f362cdcc",
        "colab": {
          "base_uri": "https://localhost:8080/",
          "height": 52
        }
      },
      "cell_type": "code",
      "source": [
        "flights_df[flights_df['ArrDelay'] == flights_df['ArrDelay'].max()]['Dest']"
      ],
      "execution_count": 28,
      "outputs": [
        {
          "output_type": "execute_result",
          "data": {
            "text/plain": [
              "1018798    MSP\n",
              "Name: Dest, dtype: object"
            ]
          },
          "metadata": {
            "tags": []
          },
          "execution_count": 28
        }
      ]
    },
    {
      "metadata": {
        "id": "FPg-vSlsWgst",
        "colab_type": "text"
      },
      "cell_type": "markdown",
      "source": [
        "**4. Find the carrier that has the greatest number of cancelled flights.**\n",
        "\n",
        "- AA\n",
        "- MQ\n",
        "- WN\n",
        "- CO "
      ]
    },
    {
      "metadata": {
        "id": "-9KIt83yWgst",
        "colab_type": "code",
        "outputId": "37014c4f-a0a1-414d-be20-2f53f17ed05b",
        "colab": {
          "base_uri": "https://localhost:8080/",
          "height": 69
        }
      },
      "cell_type": "code",
      "source": [
        "flights_df.groupby('UniqueCarrier').Cancelled.sum().sort_values(ascending=False)[:1]"
      ],
      "execution_count": 29,
      "outputs": [
        {
          "output_type": "execute_result",
          "data": {
            "text/plain": [
              "UniqueCarrier\n",
              "MQ    18331.0\n",
              "Name: Cancelled, dtype: float64"
            ]
          },
          "metadata": {
            "tags": []
          },
          "execution_count": 29
        }
      ]
    },
    {
      "metadata": {
        "id": "XzpRTEtVWgsv",
        "colab_type": "text"
      },
      "cell_type": "markdown",
      "source": [
        "**5. Let's examine departure time and consider distribution by hour (column `DepHour` that we've created earlier). Which hour has the highest percentage of flights?**<br>\n",
        "\n",
        "- 1 am \n",
        "- 5 am  \n",
        "- 8 am\n",
        "- 3 pm "
      ]
    },
    {
      "metadata": {
        "id": "qLHPwMv3Wgsv",
        "colab_type": "code",
        "outputId": "febfdb46-fbf8-45ba-e7e2-c7969b425177",
        "colab": {
          "base_uri": "https://localhost:8080/",
          "height": 451
        }
      },
      "cell_type": "code",
      "source": [
        "flights_df['DepHour'].value_counts()"
      ],
      "execution_count": 30,
      "outputs": [
        {
          "output_type": "execute_result",
          "data": {
            "text/plain": [
              "8.0     449224\n",
              "6.0     446737\n",
              "11.0    444702\n",
              "7.0     436700\n",
              "13.0    435917\n",
              "9.0     434850\n",
              "16.0    434017\n",
              "17.0    432488\n",
              "10.0    431460\n",
              "12.0    424249\n",
              "14.0    416875\n",
              "15.0    411126\n",
              "18.0    400784\n",
              "19.0    387288\n",
              "20.0    285991\n",
              "21.0    254850\n",
              "5.0     148167\n",
              "22.0    119651\n",
              "23.0     46103\n",
              "0.0      20368\n",
              "1.0       5861\n",
              "4.0       3390\n",
              "2.0       1851\n",
              "3.0        833\n",
              "Name: DepHour, dtype: int64"
            ]
          },
          "metadata": {
            "tags": []
          },
          "execution_count": 30
        }
      ]
    },
    {
      "metadata": {
        "id": "xnsJB3ZaWgsx",
        "colab_type": "text"
      },
      "cell_type": "markdown",
      "source": [
        "**6. OK, now let's examine cancelled flight distribution by time. Which hour has the least percentage of cancelled flights?**<br>\n",
        "\n",
        "- 2 am\n",
        "- 9 pm  \n",
        "- 8 am  \n",
        "- 3 am "
      ]
    },
    {
      "metadata": {
        "id": "73mE6_ydWgsx",
        "colab_type": "code",
        "colab": {
          "base_uri": "https://localhost:8080/",
          "height": 433
        },
        "outputId": "5b3f3481-b5bd-4c7f-ad5f-93a1c7fc1f00"
      },
      "cell_type": "code",
      "source": [
        "(flights_df[flights_df['Cancelled']==1].DepHour.value_counts()/flights_df['Cancelled'].sum())*100"
      ],
      "execution_count": 144,
      "outputs": [
        {
          "output_type": "execute_result",
          "data": {
            "text/plain": [
              "7.0     0.060393\n",
              "21.0    0.059665\n",
              "19.0    0.058937\n",
              "6.0     0.058210\n",
              "8.0     0.057482\n",
              "15.0    0.053116\n",
              "17.0    0.053116\n",
              "16.0    0.053116\n",
              "18.0    0.048023\n",
              "11.0    0.042930\n",
              "10.0    0.041474\n",
              "14.0    0.041474\n",
              "22.0    0.041474\n",
              "9.0     0.040747\n",
              "12.0    0.038564\n",
              "20.0    0.037109\n",
              "13.0    0.034198\n",
              "23.0    0.017463\n",
              "5.0     0.017463\n",
              "0.0     0.005093\n",
              "1.0     0.002910\n",
              "4.0     0.000728\n",
              "2.0     0.000728\n",
              "Name: DepHour, dtype: float64"
            ]
          },
          "metadata": {
            "tags": []
          },
          "execution_count": 144
        }
      ]
    },
    {
      "metadata": {
        "id": "I8imqikzWgsz",
        "colab_type": "text"
      },
      "cell_type": "markdown",
      "source": [
        "**7. Is there any hour that didn't have any cancelled flights at all? Check all that apply.**\n",
        "\n",
        "- 3\n",
        "- 19\n",
        "- 22\n",
        "- 4 "
      ]
    },
    {
      "metadata": {
        "id": "YjG0MllxedFR",
        "colab_type": "code",
        "outputId": "97ead718-dbaf-4bc1-940e-01efc211bc61",
        "colab": {
          "base_uri": "https://localhost:8080/",
          "height": 69
        }
      },
      "cell_type": "code",
      "source": [
        "np.isin(np.arange(1,24),flights_df[flights_df['Cancelled']==1].DepHour.unique())"
      ],
      "execution_count": 32,
      "outputs": [
        {
          "output_type": "execute_result",
          "data": {
            "text/plain": [
              "array([ True,  True, False,  True,  True,  True,  True,  True,  True,\n",
              "        True,  True,  True,  True,  True,  True,  True,  True,  True,\n",
              "        True,  True,  True,  True,  True])"
            ]
          },
          "metadata": {
            "tags": []
          },
          "execution_count": 32
        }
      ]
    },
    {
      "metadata": {
        "id": "F5HzJx9ZWgs2",
        "colab_type": "text"
      },
      "cell_type": "markdown",
      "source": [
        "**8. Find the busiest hour, or in other words, the hour when the number of departed flights reaches its maximum.**<br>\n",
        "\n",
        "*Hint:* Consider only *completed* flights.\n",
        "\n",
        "- 4\n",
        "- 7\n",
        "- 8\n",
        "- 17 "
      ]
    },
    {
      "metadata": {
        "id": "oD2ysMTSWgs3",
        "colab_type": "code",
        "outputId": "da95c333-ae96-45b5-9e1f-4de72dec44d2",
        "colab": {
          "base_uri": "https://localhost:8080/",
          "height": 451
        }
      },
      "cell_type": "code",
      "source": [
        "flights_df[flights_df['Cancelled']==0].DepHour.value_counts()"
      ],
      "execution_count": 33,
      "outputs": [
        {
          "output_type": "execute_result",
          "data": {
            "text/plain": [
              "8.0     449145\n",
              "6.0     446657\n",
              "11.0    444643\n",
              "7.0     436617\n",
              "13.0    435870\n",
              "9.0     434794\n",
              "16.0    433944\n",
              "17.0    432415\n",
              "10.0    431403\n",
              "12.0    424196\n",
              "14.0    416818\n",
              "15.0    411053\n",
              "18.0    400718\n",
              "19.0    387207\n",
              "20.0    285940\n",
              "21.0    254768\n",
              "5.0     148143\n",
              "22.0    119594\n",
              "23.0     46079\n",
              "0.0      20361\n",
              "1.0       5857\n",
              "4.0       3389\n",
              "2.0       1850\n",
              "3.0        833\n",
              "Name: DepHour, dtype: int64"
            ]
          },
          "metadata": {
            "tags": []
          },
          "execution_count": 33
        }
      ]
    },
    {
      "metadata": {
        "id": "ede43mtZWgs6",
        "colab_type": "text"
      },
      "cell_type": "markdown",
      "source": [
        "**9. Since we know the departure hour, it might be interesting to examine the average delay for corresponding hour. Are there any cases, when the planes on average departed earlier than they should have done? And if yes, at what departure hours did it happen?**<br>\n",
        "\n",
        "*Hint:* Consider only *completed* flights.\n",
        "\n",
        "- no, there are no such cases\n",
        "- yes, at 5-6 am\n",
        "- yes, at 9-10 am\n",
        "- yes, at 2-4 pm"
      ]
    },
    {
      "metadata": {
        "id": "rLzc52TMWgs7",
        "colab_type": "code",
        "outputId": "5cc83e04-8b98-42b3-bda1-ec851cdb47e2",
        "colab": {
          "base_uri": "https://localhost:8080/",
          "height": 468
        }
      },
      "cell_type": "code",
      "source": [
        "flights_df[flights_df['Cancelled']==0].groupby('DepHour')['DepDelay'].mean()"
      ],
      "execution_count": 34,
      "outputs": [
        {
          "output_type": "execute_result",
          "data": {
            "text/plain": [
              "DepHour\n",
              "0.0      70.750000\n",
              "1.0     111.812500\n",
              "2.0     122.562500\n",
              "3.0      95.812500\n",
              "4.0       3.375000\n",
              "5.0      -4.253906\n",
              "6.0      -1.629883\n",
              "7.0       0.102539\n",
              "8.0       1.760742\n",
              "9.0       3.753906\n",
              "10.0      5.460938\n",
              "11.0      6.683594\n",
              "12.0      7.902344\n",
              "13.0      8.812500\n",
              "14.0     10.351562\n",
              "15.0     11.875000\n",
              "16.0     11.882812\n",
              "17.0     13.210938\n",
              "18.0     15.343750\n",
              "19.0     16.875000\n",
              "20.0     22.781250\n",
              "21.0     23.031250\n",
              "22.0     38.031250\n",
              "23.0     60.000000\n",
              "Name: DepDelay, dtype: float16"
            ]
          },
          "metadata": {
            "tags": []
          },
          "execution_count": 34
        }
      ]
    },
    {
      "metadata": {
        "id": "rFntBA3FWgs_",
        "colab_type": "text"
      },
      "cell_type": "markdown",
      "source": [
        "**10. Considering only the completed flights by the carrier, that you have found in Question 4, find the distribution of these flights by hour. At what time does the greatest number of its planes depart?**<br>\n",
        "\n",
        "- at noon\n",
        "- at 7 am \n",
        "- at 8 am\n",
        "- at 10 am"
      ]
    },
    {
      "metadata": {
        "id": "AlBofc27Wgs_",
        "colab_type": "code",
        "outputId": "f3060f7a-8b4f-4939-e7b5-bee29d78c0d8",
        "colab": {
          "base_uri": "https://localhost:8080/",
          "height": 416
        }
      },
      "cell_type": "code",
      "source": [
        "flights_df[(flights_df['Cancelled'] == 0) & (flights_df['UniqueCarrier'] == 'MQ')].DepHour.value_counts()"
      ],
      "execution_count": 35,
      "outputs": [
        {
          "output_type": "execute_result",
          "data": {
            "text/plain": [
              "10.0    33063\n",
              "9.0     32596\n",
              "11.0    31863\n",
              "13.0    31295\n",
              "16.0    31276\n",
              "6.0     30982\n",
              "15.0    30904\n",
              "14.0    30149\n",
              "12.0    30043\n",
              "7.0     29840\n",
              "18.0    29362\n",
              "17.0    28864\n",
              "8.0     28757\n",
              "19.0    25493\n",
              "20.0    18664\n",
              "5.0     12732\n",
              "21.0    12086\n",
              "22.0     3471\n",
              "23.0      741\n",
              "0.0       163\n",
              "1.0        14\n",
              "2.0         4\n",
              "Name: DepHour, dtype: int64"
            ]
          },
          "metadata": {
            "tags": []
          },
          "execution_count": 35
        }
      ]
    },
    {
      "metadata": {
        "id": "RQH49r0dWgtC",
        "colab_type": "text"
      },
      "cell_type": "markdown",
      "source": [
        "**11. Find top-10 carriers in terms of the number of *completed* flights (_UniqueCarrier_ column)?**\n",
        "\n",
        "**Which of the listed below is _not_ in your top-10 list?**\n",
        "- DL\n",
        "- AA\n",
        "- OO\n",
        "- EV"
      ]
    },
    {
      "metadata": {
        "id": "m-1TLcNCWgtC",
        "colab_type": "code",
        "outputId": "dde53928-0ccb-4460-e23e-496f1ba82d6c",
        "colab": {
          "base_uri": "https://localhost:8080/",
          "height": 208
        }
      },
      "cell_type": "code",
      "source": [
        "flights_df[flights_df['Cancelled']==0]['UniqueCarrier'].value_counts()[:10]"
      ],
      "execution_count": 36,
      "outputs": [
        {
          "output_type": "execute_result",
          "data": {
            "text/plain": [
              "WN    1189365\n",
              "AA     587445\n",
              "OO     554723\n",
              "MQ     472362\n",
              "US     447007\n",
              "DL     445118\n",
              "UA     438974\n",
              "XE     364518\n",
              "NW     344746\n",
              "CO     294753\n",
              "Name: UniqueCarrier, dtype: int64"
            ]
          },
          "metadata": {
            "tags": []
          },
          "execution_count": 36
        }
      ]
    },
    {
      "metadata": {
        "id": "e4U8EUJLWgtF",
        "colab_type": "text"
      },
      "cell_type": "markdown",
      "source": [
        "**12. Plot distributions of flight cancellation reasons (_CancellationCode_).**\n",
        "\n",
        "**What is the most frequent reason for flight cancellation? (Use this [link](https://www.transtats.bts.gov/Fields.asp?Table_ID=236) to translate codes into reasons)**\n",
        "- Carrier\n",
        "- Weather conditions\n",
        "- National Air System\n",
        "- Security reasons"
      ]
    },
    {
      "metadata": {
        "id": "9pPKSnaNWgtF",
        "colab_type": "code",
        "outputId": "c0a10038-bfbe-4f47-eb4a-2ee17f0cb431",
        "colab": {
          "base_uri": "https://localhost:8080/",
          "height": 396
        }
      },
      "cell_type": "code",
      "source": [
        "sns.countplot('CancellationCode',data=flights_df,order=flights_df['CancellationCode'].value_counts().index);"
      ],
      "execution_count": 37,
      "outputs": [
        {
          "output_type": "stream",
          "text": [
            "/usr/local/lib/python3.6/dist-packages/seaborn/categorical.py:1428: FutureWarning: remove_na is deprecated and is a private function. Do not use.\n",
            "  stat_data = remove_na(group_data)\n"
          ],
          "name": "stderr"
        },
        {
          "output_type": "display_data",
          "data": {
            "image/png": "[encoded data removed]",
            "text/plain": [
              "<Figure size 576x396 with 1 Axes>"
            ]
          },
          "metadata": {
            "tags": []
          }
        }
      ]
    },
    {
      "metadata": {
        "id": "FDkKL--PWgtI",
        "colab_type": "text"
      },
      "cell_type": "markdown",
      "source": [
        "**13. Which route is the most frequent, in terms of the number of flights?**\n",
        "\n",
        "(Take a look at _'Origin'_ and _'Dest'_ features. Consider _A->B_ and _B->A_ directions as _different_ routes) \n",
        "\n",
        " - New-York – Washington (JFK-IAD)\n",
        " - San-Francisco – Los-Angeles (SFO-LAX)\n",
        " - San-Jose – Dallas (SJC-DFW)\n",
        " - New-York – San-Francisco (JFK-SFO)"
      ]
    },
    {
      "metadata": {
        "id": "3HBxYxnvWgtI",
        "colab_type": "code",
        "outputId": "32c56f81-1285-4974-885a-231f1b29f5a8",
        "colab": {
          "base_uri": "https://localhost:8080/",
          "height": 69
        }
      },
      "cell_type": "code",
      "source": [
        "flights_df.groupby('Origin')['Dest'].value_counts().sort_values(ascending=False)[:1]"
      ],
      "execution_count": 38,
      "outputs": [
        {
          "output_type": "execute_result",
          "data": {
            "text/plain": [
              "Origin  Dest\n",
              "SFO     LAX     13788\n",
              "Name: Dest, dtype: int64"
            ]
          },
          "metadata": {
            "tags": []
          },
          "execution_count": 38
        }
      ]
    },
    {
      "metadata": {
        "id": "8GGI7lwTWgtK",
        "colab_type": "text"
      },
      "cell_type": "markdown",
      "source": [
        "**14. Find top-5 delayed routes (count how many times they were delayed on departure). From all flights on these 5 routes, count all flights with weather conditions contributing to a delay.**\n",
        "\n",
        "_Hint_: consider only positive delays\n",
        "\n",
        "- 449 \n",
        "- 539 \n",
        "- 549 \n",
        "- 668"
      ]
    },
    {
      "metadata": {
        "id": "HQFOm4X5WgtK",
        "colab_type": "code",
        "outputId": "0ad87969-325b-4894-8ec3-b28c3e030279",
        "colab": {
          "base_uri": "https://localhost:8080/",
          "height": 35
        }
      },
      "cell_type": "code",
      "source": [
        "x=flights_df[flights_df['DepDelay']>0].groupby(['Origin','Dest']) ['DepDelay'].count().sort_values(ascending=True).nlargest(5).reset_index()\n",
        "delay_df=pd.DataFrame()\n",
        "for k,v in zip(x['Origin'],x['Dest']):\n",
        "  delay_df=delay_df.append(flights_df[(flights_df['Origin'] == k) & (flights_df['Dest'] == v)], ignore_index=True)\n",
        "delay_df[delay_df['WeatherDelay']>0].shape[0]"
      ],
      "execution_count": 39,
      "outputs": [
        {
          "output_type": "execute_result",
          "data": {
            "text/plain": [
              "668"
            ]
          },
          "metadata": {
            "tags": []
          },
          "execution_count": 39
        }
      ]
    },
    {
      "metadata": {
        "id": "kKTjXqerWgtO",
        "colab_type": "text"
      },
      "cell_type": "markdown",
      "source": [
        "**15. Examine the hourly distribution of departure times. Choose all correct statements:**\n",
        "\n",
        " - Flights are normally distributed within time interval [0-23] (Search for: Normal distribution, bell curve).\n",
        " - Flights are uniformly distributed within time interval [0-23].\n",
        " - In the period from 0 am to 4 am there are considerably less flights than from 7 pm to 8 pm."
      ]
    },
    {
      "metadata": {
        "id": "EpxjAkidWgtO",
        "colab_type": "code",
        "outputId": "bf5f7e13-b3ad-4b53-9359-54293b53c005",
        "colab": {
          "base_uri": "https://localhost:8080/",
          "height": 347
        }
      },
      "cell_type": "code",
      "source": [
        "plt.hist(flights_df['DepHour']);"
      ],
      "execution_count": 44,
      "outputs": [
        {
          "output_type": "display_data",
          "data": {
            "image/png": "[encoded data removed]",
            "text/plain": [
              "<Figure size 576x396 with 1 Axes>"
            ]
          },
          "metadata": {
            "tags": []
          }
        }
      ]
    },
    {
      "metadata": {
        "id": "MYNYBrXzWgtQ",
        "colab_type": "text"
      },
      "cell_type": "markdown",
      "source": [
        "**16. Show how the number of flights changes through time (on the daily/weekly/monthly basis) and interpret the findings.**\n",
        "\n",
        "**Choose all correct statements:**\n",
        "- The number of flights during weekends is less than during weekdays (working days). \n",
        "- The lowest number of flights is on Sunday.\n",
        "- There are less flights during winter than during summer.\n",
        "\n",
        "_Hint_: Look for official meteorological winter months for the Nothern Hemisphsere."
      ]
    },
    {
      "metadata": {
        "id": "_xBiPnswWgtS",
        "colab_type": "code",
        "colab": {
          "base_uri": "https://localhost:8080/",
          "height": 373
        },
        "outputId": "454c03d9-1a92-4085-ea1c-31abd76e209f"
      },
      "cell_type": "code",
      "source": [
        "pd.DataFrame(num_flights_by_date).resample('M').sum().plot();"
      ],
      "execution_count": 87,
      "outputs": [
        {
          "output_type": "display_data",
          "data": {
            "image/png": "[encoded data removed]",
            "text/plain": [
              "<Figure size 576x396 with 1 Axes>"
            ]
          },
          "metadata": {
            "tags": []
          }
        }
      ]
    },
    {
      "metadata": {
        "id": "ot1yO6uzf_RB",
        "colab_type": "code",
        "colab": {
          "base_uri": "https://localhost:8080/",
          "height": 396
        },
        "outputId": "1e1805c7-ce0d-488e-ed18-044a66788cc6"
      },
      "cell_type": "code",
      "source": [
        "sns.countplot(flights_df['DayOfWeek'],order=flights_df['DayOfWeek'].value_counts(ascending=True).index);"
      ],
      "execution_count": 85,
      "outputs": [
        {
          "output_type": "stream",
          "text": [
            "/usr/local/lib/python3.6/dist-packages/seaborn/categorical.py:1428: FutureWarning: remove_na is deprecated and is a private function. Do not use.\n",
            "  stat_data = remove_na(group_data)\n"
          ],
          "name": "stderr"
        },
        {
          "output_type": "display_data",
          "data": {
            "image/png": "[encoded data removed]",
            "text/plain": [
              "<Figure size 576x396 with 1 Axes>"
            ]
          },
          "metadata": {
            "tags": []
          }
        }
      ]
    },
    {
      "metadata": {
        "id": "Rw8gU1muWgtV",
        "colab_type": "text"
      },
      "cell_type": "markdown",
      "source": [
        "**17. Examine the distribution of cancellation reasons with time. Make a bar plot of cancellation reasons aggregated by months.**\n",
        "\n",
        "**Choose all correct statements:**\n",
        "- October has the lowest number of cancellations due to weather. \n",
        "- The highest number of cancellations in September is due to Security reasons.\n",
        "- April's top cancellation reason is carriers.\n",
        "- Flights cancellations due to National Air System are more frequent than those due to carriers."
      ]
    },
    {
      "metadata": {
        "id": "zrXqvpUOWgtW",
        "colab_type": "code",
        "colab": {
          "base_uri": "https://localhost:8080/",
          "height": 202
        },
        "outputId": "c2c4f031-8364-41c2-9ac7-eca6736107c9"
      },
      "cell_type": "code",
      "source": [
        "flights_df.groupby('Month').CancellationCode.value_counts().unstack(0)"
      ],
      "execution_count": 104,
      "outputs": [
        {
          "output_type": "execute_result",
          "data": {
            "text/html": [
              "<div>\n",
              "<style scoped>\n",
              "    .dataframe tbody tr th:only-of-type {\n",
              "        vertical-align: middle;\n",
              "    }\n",
              "\n",
              "    .dataframe tbody tr th {\n",
              "        vertical-align: top;\n",
              "    }\n",
              "\n",
              "    .dataframe thead th {\n",
              "        text-align: right;\n",
              "    }\n",
              "</style>\n",
              "<table border=\"1\" class=\"dataframe\">\n",
              "  <thead>\n",
              "    <tr style=\"text-align: right;\">\n",
              "      <th>Month</th>\n",
              "      <th>1</th>\n",
              "      <th>2</th>\n",
              "      <th>3</th>\n",
              "      <th>4</th>\n",
              "      <th>5</th>\n",
              "      <th>6</th>\n",
              "      <th>7</th>\n",
              "      <th>8</th>\n",
              "      <th>9</th>\n",
              "      <th>10</th>\n",
              "      <th>11</th>\n",
              "      <th>12</th>\n",
              "    </tr>\n",
              "    <tr>\n",
              "      <th>CancellationCode</th>\n",
              "      <th></th>\n",
              "      <th></th>\n",
              "      <th></th>\n",
              "      <th></th>\n",
              "      <th></th>\n",
              "      <th></th>\n",
              "      <th></th>\n",
              "      <th></th>\n",
              "      <th></th>\n",
              "      <th></th>\n",
              "      <th></th>\n",
              "      <th></th>\n",
              "    </tr>\n",
              "  </thead>\n",
              "  <tbody>\n",
              "    <tr>\n",
              "      <th>A</th>\n",
              "      <td>6635.0</td>\n",
              "      <td>6090.0</td>\n",
              "      <td>6038.0</td>\n",
              "      <td>7312.0</td>\n",
              "      <td>3157.0</td>\n",
              "      <td>4251.0</td>\n",
              "      <td>5292.0</td>\n",
              "      <td>3852.0</td>\n",
              "      <td>2246.0</td>\n",
              "      <td>2097.0</td>\n",
              "      <td>2510.0</td>\n",
              "      <td>4850.0</td>\n",
              "    </tr>\n",
              "    <tr>\n",
              "      <th>B</th>\n",
              "      <td>6711.0</td>\n",
              "      <td>10034.0</td>\n",
              "      <td>7520.0</td>\n",
              "      <td>1479.0</td>\n",
              "      <td>1461.0</td>\n",
              "      <td>3448.0</td>\n",
              "      <td>2612.0</td>\n",
              "      <td>3582.0</td>\n",
              "      <td>6478.0</td>\n",
              "      <td>600.0</td>\n",
              "      <td>937.0</td>\n",
              "      <td>10042.0</td>\n",
              "    </tr>\n",
              "    <tr>\n",
              "      <th>C</th>\n",
              "      <td>3962.0</td>\n",
              "      <td>4470.0</td>\n",
              "      <td>2621.0</td>\n",
              "      <td>1564.0</td>\n",
              "      <td>1608.0</td>\n",
              "      <td>3232.0</td>\n",
              "      <td>2694.0</td>\n",
              "      <td>2401.0</td>\n",
              "      <td>1188.0</td>\n",
              "      <td>552.0</td>\n",
              "      <td>1009.0</td>\n",
              "      <td>2887.0</td>\n",
              "    </tr>\n",
              "    <tr>\n",
              "      <th>D</th>\n",
              "      <td>NaN</td>\n",
              "      <td>2.0</td>\n",
              "      <td>4.0</td>\n",
              "      <td>NaN</td>\n",
              "      <td>3.0</td>\n",
              "      <td>NaN</td>\n",
              "      <td>NaN</td>\n",
              "      <td>NaN</td>\n",
              "      <td>1.0</td>\n",
              "      <td>NaN</td>\n",
              "      <td>2.0</td>\n",
              "      <td>NaN</td>\n",
              "    </tr>\n",
              "  </tbody>\n",
              "</table>\n",
              "</div>"
            ],
            "text/plain": [
              "Month                 1        2       3       4       5       6       7   \\\n",
              "CancellationCode                                                            \n",
              "A                 6635.0   6090.0  6038.0  7312.0  3157.0  4251.0  5292.0   \n",
              "B                 6711.0  10034.0  7520.0  1479.0  1461.0  3448.0  2612.0   \n",
              "C                 3962.0   4470.0  2621.0  1564.0  1608.0  3232.0  2694.0   \n",
              "D                    NaN      2.0     4.0     NaN     3.0     NaN     NaN   \n",
              "\n",
              "Month                 8       9       10      11       12  \n",
              "CancellationCode                                           \n",
              "A                 3852.0  2246.0  2097.0  2510.0   4850.0  \n",
              "B                 3582.0  6478.0   600.0   937.0  10042.0  \n",
              "C                 2401.0  1188.0   552.0  1009.0   2887.0  \n",
              "D                    NaN     1.0     NaN     2.0      NaN  "
            ]
          },
          "metadata": {
            "tags": []
          },
          "execution_count": 104
        }
      ]
    },
    {
      "metadata": {
        "id": "nOA9m2muWgtX",
        "colab_type": "text"
      },
      "cell_type": "markdown",
      "source": [
        "**18. Which month has the greatest number of cancellations due to Carrier?** \n",
        "- May\n",
        "- January\n",
        "- September\n",
        "- April"
      ]
    },
    {
      "metadata": {
        "id": "jS0_BXyBWgtY",
        "colab_type": "code",
        "colab": {
          "base_uri": "https://localhost:8080/",
          "height": 69
        },
        "outputId": "30ecd759-c2e6-4acc-81fd-4247803d0e1a"
      },
      "cell_type": "code",
      "source": [
        "flights_df[flights_df['CancellationCode']=='A'].groupby('Month').size().sort_values(ascending=False)[:1]"
      ],
      "execution_count": 112,
      "outputs": [
        {
          "output_type": "execute_result",
          "data": {
            "text/plain": [
              "Month\n",
              "4    7312\n",
              "dtype: int64"
            ]
          },
          "metadata": {
            "tags": []
          },
          "execution_count": 112
        }
      ]
    },
    {
      "metadata": {
        "id": "1WDFDCr9WgtZ",
        "colab_type": "text"
      },
      "cell_type": "markdown",
      "source": [
        "**19. Identify the carrier with the greatest number of cancellations due to carrier in the corresponding month from the previous question.**\n",
        "\n",
        "- 9E\n",
        "- EV\n",
        "- HA\n",
        "- AA"
      ]
    },
    {
      "metadata": {
        "id": "xMqjwvCDWgta",
        "colab_type": "code",
        "colab": {
          "base_uri": "https://localhost:8080/",
          "height": 52
        },
        "outputId": "008920a2-8f5d-4583-88d6-1dca67076fb5"
      },
      "cell_type": "code",
      "source": [
        "flights_df[(flights_df['CancellationCode']=='A') & (flights_df['Month']==4)]['UniqueCarrier'].value_counts()[:1]"
      ],
      "execution_count": 115,
      "outputs": [
        {
          "output_type": "execute_result",
          "data": {
            "text/plain": [
              "AA    3696\n",
              "Name: UniqueCarrier, dtype: int64"
            ]
          },
          "metadata": {
            "tags": []
          },
          "execution_count": 115
        }
      ]
    },
    {
      "metadata": {
        "id": "XaWw7AnAWgtd",
        "colab_type": "text"
      },
      "cell_type": "markdown",
      "source": [
        "**20. Examine median arrival and departure delays (in time) by carrier. Which carrier has the lowest median delay time for both arrivals and departures? Leave only non-negative values of delay times ('ArrDelay', 'DepDelay').\n",
        "([Boxplots](https://seaborn.pydata.org/generated/seaborn.boxplot.html) can be helpful in this exercise, as well as it might be a good idea to remove outliers in order to build nice graphs. You can exclude delay time values higher than a corresponding .95 percentile).**\n",
        "\n",
        "- EV\n",
        "- OO\n",
        "- AA\n",
        "- AQ"
      ]
    },
    {
      "metadata": {
        "id": "i3EHj6L0Wgte",
        "colab_type": "code",
        "colab": {
          "base_uri": "https://localhost:8080/",
          "height": 413
        },
        "outputId": "585e57b9-29fb-42c5-d14c-f97f666bd54b"
      },
      "cell_type": "code",
      "source": [
        "#data=flights_df[(flights_df['ArrDelay']>0 )& (flights_df['DepDelay'] > 0)].groupby('UniqueCarrier')['ArrDelay','DepDelay'].median().reset_index()\n",
        "\n",
        "data1=flights_df[(flights_df['ArrDelay']>0 )& (flights_df['ArrDelay'] < flights_df['ArrDelay'].quantile(0.95))]\n",
        "sns.boxplot(x='UniqueCarrier',y='ArrDelay',data=data1)\n"
      ],
      "execution_count": 135,
      "outputs": [
        {
          "output_type": "stream",
          "text": [
            "/usr/local/lib/python3.6/dist-packages/seaborn/categorical.py:454: FutureWarning: remove_na is deprecated and is a private function. Do not use.\n",
            "  box_data = remove_na(group_data)\n"
          ],
          "name": "stderr"
        },
        {
          "output_type": "execute_result",
          "data": {
            "text/plain": [
              "<matplotlib.axes._subplots.AxesSubplot at 0x7fc9eef17588>"
            ]
          },
          "metadata": {
            "tags": []
          },
          "execution_count": 135
        },
        {
          "output_type": "display_data",
          "data": {
            "image/png": "[encoded data removed]",
            "text/plain": [
              "<Figure size 576x396 with 1 Axes>"
            ]
          },
          "metadata": {
            "tags": []
          }
        }
      ]
    },
    {
      "metadata": {
        "id": "yVd6-mwjrxkf",
        "colab_type": "code",
        "colab": {
          "base_uri": "https://localhost:8080/",
          "height": 413
        },
        "outputId": "5ed8216d-a88a-4add-a24c-801241f6a88a"
      },
      "cell_type": "code",
      "source": [
        "data2=flights_df[(flights_df['DepDelay']>0 )& (flights_df['DepDelay'] < flights_df['DepDelay'].quantile(0.95))]\n",
        "sns.boxplot(x='UniqueCarrier',y='DepDelay',data=data2)"
      ],
      "execution_count": 137,
      "outputs": [
        {
          "output_type": "stream",
          "text": [
            "/usr/local/lib/python3.6/dist-packages/seaborn/categorical.py:454: FutureWarning: remove_na is deprecated and is a private function. Do not use.\n",
            "  box_data = remove_na(group_data)\n"
          ],
          "name": "stderr"
        },
        {
          "output_type": "execute_result",
          "data": {
            "text/plain": [
              "<matplotlib.axes._subplots.AxesSubplot at 0x7fc9ee344d30>"
            ]
          },
          "metadata": {
            "tags": []
          },
          "execution_count": 137
        },
        {
          "output_type": "display_data",
          "data": {
            "image/png": "[encoded data removed]",
            "text/plain": [
              "<Figure size 576x396 with 1 Axes>"
            ]
          },
          "metadata": {
            "tags": []
          }
        }
      ]
    },
    {
      "metadata": {
        "id": "DgW70WOyWgtg",
        "colab_type": "text"
      },
      "cell_type": "markdown",
      "source": [
        "That's it! Now go and do 30 push-ups! :)"
      ]
    }
  ]
}